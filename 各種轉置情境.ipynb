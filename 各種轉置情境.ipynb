{
 "cells": [
  {
   "cell_type": "code",
   "execution_count": 1,
   "metadata": {
    "collapsed": true
   },
   "outputs": [],
   "source": [
    "import tejapi\n",
    "tejapi.ApiConfig.api_key = \"GDEy0mWAGqnI3EemCREGREZMcEVbnF\""
   ]
  },
  {
   "cell_type": "code",
   "execution_count": 19,
   "metadata": {},
   "outputs": [],
   "source": []
  },
  {
   "cell_type": "markdown",
   "metadata": {},
   "source": [
    "# 範例一 總經\n",
    "#### key值為coid+mdate，要把coid變成欄位名稱，只有val一個欄位的值，等於少一個key的財務資料\n",
    "#### https://api.tej.com.tw/columndoc.html?subId=2\n",
    "##### 此類轉換只要指定的coid不多，python處理起來速度不慢\n"
   ]
  },
  {
   "cell_type": "code",
   "execution_count": 31,
   "metadata": {},
   "outputs": [
    {
     "name": "stdout",
     "output_type": "stream",
     "text": [
      "        coid                     mdate           val pfr\n",
      "None                                                    \n",
      "0      SM11G 2020-02-01 00:00:00+00:00  2.880410e+01   R\n",
      "1     SM1102 2020-02-01 00:00:00+00:00  8.191800e+04   R\n",
      "2       SM11 2020-02-01 00:00:00+00:00  7.197820e+05   R\n",
      "3      SM06G 2020-02-01 00:00:00+00:00  8.950400e+00   R\n",
      "4     SM0602 2020-02-01 00:00:00+00:00  4.913236e+07   R\n"
     ]
    }
   ],
   "source": [
    "data = tejapi.get('GLOBAL/ANMAR',mdate='2020-02-01')\n",
    "print(data.head(5))\n",
    "\n",
    "# 使用者指定要查詢並轉置的coid\n",
    "all_coid = ['SM11G', 'SM1102', 'SM11', 'SM06G', 'SM0602', 'SM06', 'SM0502', 'SM05', 'SB9918', 'SB9917', 'SB9916', 'SB9912', 'SB9911', 'SB9910', 'SB9909', 'SB9908', 'SB9907', 'SB9906', 'SB9905', 'SB9904', 'SB9903', 'SB9902', 'SB99', 'SB98', 'SB97', 'SB9602', 'SB96', 'SB9305', 'SB9303', 'SB93', 'SB92', 'SB9103', 'SB9102', 'SB91', 'SB90', 'SB89', 'SB86', 'SB8302', 'SB83', 'SB82', 'SB81', 'SB80', 'SB7974', 'SB7973', 'SB7962', 'SB7961', 'SB7960', 'SB7959', 'SB7958', 'SB7957', 'SB7956', 'SB7955', 'SB7954', 'SB7953', 'SB7952', 'SB7951', 'SB7950', 'SB7949', 'SB7948', 'SB7946', 'SB7945', 'SB7944', 'SB7937', 'SB7936', 'SB7935', 'SB7926', 'SB7925', 'SB7922', 'SB7921', 'SB7920', 'SB7919', 'SB7918', 'SB7917', 'SB7916', 'SB7915', 'SB7912', 'SB7911', 'SB7910', 'SB7909', 'SB7908', 'SB7907', 'SB7906', 'SB7905', 'SB7904', 'SB7903', 'SB7902', 'SB79', 'SB7805', 'SB7803', 'SB7802', 'SB7708', 'SB7705', 'SB7704', 'SB7703', 'SB7702', 'SB76', 'SB75', 'SB7401', 'SB74', 'SB73', 'SB72', 'SB71', 'SB70',]\n",
    "code_data = tejapi.get('GLOBAL/ABMAR',coid=all_coid,mdate='2020-01-01',opts={\"sort\":\"mdate.desc\",'columns':['coid','cname','cnm','ename']},paginate=True)\n",
    "coid_dict = { coid[0]:coid[1] for coid in code_data[['coid','cnm']].values.tolist()}"
   ]
  },
  {
   "cell_type": "code",
   "execution_count": 32,
   "metadata": {},
   "outputs": [
    {
     "data": {
      "text/html": [
       "<div>\n",
       "<style scoped>\n",
       "    .dataframe tbody tr th:only-of-type {\n",
       "        vertical-align: middle;\n",
       "    }\n",
       "\n",
       "    .dataframe tbody tr th {\n",
       "        vertical-align: top;\n",
       "    }\n",
       "\n",
       "    .dataframe thead th {\n",
       "        text-align: right;\n",
       "    }\n",
       "</style>\n",
       "<table border=\"1\" class=\"dataframe\">\n",
       "  <thead>\n",
       "    <tr style=\"text-align: right;\">\n",
       "      <th></th>\n",
       "      <th>mdate</th>\n",
       "      <th>上市股票融券年增率</th>\n",
       "      <th>上櫃股票融券股數餘額</th>\n",
       "      <th>上市股票融券股數餘額</th>\n",
       "      <th>上市股票融資年增率</th>\n",
       "      <th>上櫃股票融資餘額</th>\n",
       "      <th>上市股票融資餘額</th>\n",
       "      <th>上櫃融券股餘額金額</th>\n",
       "      <th>上市股票融資股數餘額</th>\n",
       "      <th>MSCI-歐洲指數USD-G</th>\n",
       "      <th>...</th>\n",
       "      <th>孟買200股價指數</th>\n",
       "      <th>孟買100股價指數</th>\n",
       "      <th>威靈頓NZSE--50指數</th>\n",
       "      <th>法國巴黎CAC 40指數</th>\n",
       "      <th>奧斯陸OBX PRICE 指數</th>\n",
       "      <th>奧斯陸OBX股價指數</th>\n",
       "      <th>斯德哥爾摩股價指數</th>\n",
       "      <th>蘇黎世市場指數SMI</th>\n",
       "      <th>費城半導體指數</th>\n",
       "      <th>印尼雅加達JSX指數</th>\n",
       "    </tr>\n",
       "  </thead>\n",
       "  <tbody>\n",
       "    <tr>\n",
       "      <th>0</th>\n",
       "      <td>2020-02-01 00:00:00+00:00</td>\n",
       "      <td>28.8041</td>\n",
       "      <td>81918.0</td>\n",
       "      <td>719782.0</td>\n",
       "      <td>8.9504</td>\n",
       "      <td>49132362.0</td>\n",
       "      <td>132112918.0</td>\n",
       "      <td>1679999.0</td>\n",
       "      <td>6944430.0</td>\n",
       "      <td>10759.514</td>\n",
       "      <td>...</td>\n",
       "      <td>5108.22</td>\n",
       "      <td>12236.18</td>\n",
       "      <td>11834.54</td>\n",
       "      <td>6054.76</td>\n",
       "      <td>470.72</td>\n",
       "      <td>831.97</td>\n",
       "      <td>721.81</td>\n",
       "      <td>11101.17</td>\n",
       "      <td>1931.08</td>\n",
       "      <td>5954.4</td>\n",
       "    </tr>\n",
       "  </tbody>\n",
       "</table>\n",
       "<p>1 rows × 104 columns</p>\n",
       "</div>"
      ],
      "text/plain": [
       "                      mdate  上市股票融券年增率  上櫃股票融券股數餘額  上市股票融券股數餘額  上市股票融資年增率  \\\n",
       "0 2020-02-01 00:00:00+00:00    28.8041     81918.0    719782.0     8.9504   \n",
       "\n",
       "     上櫃股票融資餘額     上市股票融資餘額  上櫃融券股餘額金額  上市股票融資股數餘額  MSCI-歐洲指數USD-G  ...  \\\n",
       "0  49132362.0  132112918.0  1679999.0   6944430.0       10759.514  ...   \n",
       "\n",
       "   孟買200股價指數  孟買100股價指數  威靈頓NZSE--50指數  法國巴黎CAC 40指數  奧斯陸OBX PRICE 指數  \\\n",
       "0    5108.22   12236.18       11834.54       6054.76           470.72   \n",
       "\n",
       "   奧斯陸OBX股價指數  斯德哥爾摩股價指數  蘇黎世市場指數SMI  費城半導體指數  印尼雅加達JSX指數  \n",
       "0      831.97     721.81    11101.17  1931.08      5954.4  \n",
       "\n",
       "[1 rows x 104 columns]"
      ]
     },
     "execution_count": 32,
     "metadata": {},
     "output_type": "execute_result"
    }
   ],
   "source": [
    "anmar_1d = None\n",
    "for coid in all_coid:\n",
    "    temp_data = data.loc[data['coid']==coid,['mdate','val']].rename(columns={'val':coid})\n",
    "    if anmar_1d is None:\n",
    "        anmar_1d = temp_data\n",
    "    else:\n",
    "        anmar_1d = anmar_1d.merge(temp_data,on=['mdate'],how='outer')\n",
    "anmar_1d.rename(columns=coid_dict)"
   ]
  },
  {
   "cell_type": "markdown",
   "metadata": {},
   "source": [
    "# 範例二 匯率\n",
    "##### key值為coid+mdate，要把coid變成欄位名稱，但是可使用的欄位卻不只val一個，指定'close_ny'(原抓檔值)作轉換\n",
    "##### https://api.tej.com.tw/columndoc.html?subId=5\n",
    "##### 此類轉換只要指定的coid不多，python處理起來速度不慢"
   ]
  },
  {
   "cell_type": "code",
   "execution_count": 24,
   "metadata": {},
   "outputs": [
    {
     "name": "stdout",
     "output_type": "stream",
     "text": [
      "     coid                     mdate    close_ny   clschg     tuse2  \\\n",
      "None                                                                 \n",
      "0     ZAR 2020-02-11 00:00:00+00:00     14.8213  -0.1564  0.067470   \n",
      "1     VND 2020-02-11 00:00:00+00:00  23243.0000 -19.0000  0.000043   \n",
      "2     UYU 2020-02-11 00:00:00+00:00     37.7300   0.1800  0.026504   \n",
      "3     USD 2020-02-11 00:00:00+00:00      1.0000      NaN  1.000000   \n",
      "4     UAH 2020-02-11 00:00:00+00:00     24.4328  -0.0693  0.040929   \n",
      "\n",
      "           tntd1      tntd2  \n",
      "None                         \n",
      "0       0.493385   2.026813  \n",
      "1     773.735020   0.001292  \n",
      "2       1.255992   0.796183  \n",
      "3       0.033289  30.040000  \n",
      "4       0.813342   1.229495  \n"
     ]
    }
   ],
   "source": [
    "data = tejapi.get('GLOBAL/GCURR',mdate='2020-02-11')\n",
    "print(data.head(5))\n",
    "\n",
    "# 使用者指定要查詢並轉置的coid\n",
    "all_coid = ['ZAR','VND','UYU','USD']"
   ]
  },
  {
   "cell_type": "code",
   "execution_count": 25,
   "metadata": {},
   "outputs": [
    {
     "data": {
      "text/html": [
       "<div>\n",
       "<style scoped>\n",
       "    .dataframe tbody tr th:only-of-type {\n",
       "        vertical-align: middle;\n",
       "    }\n",
       "\n",
       "    .dataframe tbody tr th {\n",
       "        vertical-align: top;\n",
       "    }\n",
       "\n",
       "    .dataframe thead th {\n",
       "        text-align: right;\n",
       "    }\n",
       "</style>\n",
       "<table border=\"1\" class=\"dataframe\">\n",
       "  <thead>\n",
       "    <tr style=\"text-align: right;\">\n",
       "      <th></th>\n",
       "      <th>mdate</th>\n",
       "      <th>ZAR</th>\n",
       "      <th>VND</th>\n",
       "      <th>UYU</th>\n",
       "      <th>USD</th>\n",
       "    </tr>\n",
       "  </thead>\n",
       "  <tbody>\n",
       "    <tr>\n",
       "      <th>0</th>\n",
       "      <td>2020-02-11 00:00:00+00:00</td>\n",
       "      <td>14.8213</td>\n",
       "      <td>23243.0</td>\n",
       "      <td>37.73</td>\n",
       "      <td>1.0</td>\n",
       "    </tr>\n",
       "  </tbody>\n",
       "</table>\n",
       "</div>"
      ],
      "text/plain": [
       "                      mdate      ZAR      VND    UYU  USD\n",
       "0 2020-02-11 00:00:00+00:00  14.8213  23243.0  37.73  1.0"
      ]
     },
     "execution_count": 25,
     "metadata": {},
     "output_type": "execute_result"
    }
   ],
   "source": [
    "gcurr_1d = None\n",
    "for coid in all_coid:\n",
    "    temp_data = data.loc[data['coid']==coid,['mdate','close_ny']].rename(columns={'close_ny':coid})\n",
    "    if gcurr_1d is None:\n",
    "        gcurr_1d = temp_data\n",
    "    else:\n",
    "        gcurr_1d = gcurr_1d.merge(temp_data,on=['mdate'],how='outer')\n",
    "gcurr_1d"
   ]
  },
  {
   "cell_type": "markdown",
   "metadata": {},
   "source": [
    "# 範例三 長期投資明細\n",
    "##### key值為coid+mdate+key3，要把key3按照使用者指定欄位名稱的值進行轉置，使用型態跟現在財報轉置較像，但多了使用者可指定欄位的差異\n",
    "##### https://api.tej.com.tw/columns.html?idCode=TWN/AINV"
   ]
  },
  {
   "cell_type": "code",
   "execution_count": 22,
   "metadata": {},
   "outputs": [
    {
     "name": "stdout",
     "output_type": "stream",
     "text": [
      "      coid                     mdate          key3  \\\n",
      "None                                                 \n",
      "0     9962 2018-03-01 00:00:00+00:00     ZZZZZZZ合計   \n",
      "1     9962 2018-03-01 00:00:00+00:00   8070   長華電材   \n",
      "2     9962 2018-03-01 00:00:00+00:00  3045   台灣大哥大   \n",
      "3     9960 2018-03-01 00:00:00+00:00     ZZZZZZZ合計   \n",
      "4     9960 2018-03-01 00:00:00+00:00   D0BRF  彭博實業   \n",
      "\n",
      "                                      key3_e   fld005 fld006  fld007  fld008  \\\n",
      "None                                                                           \n",
      "0                              ZZZZZZZ Total      NaN    NTD     0.0     NaN   \n",
      "1     8070   Chang Wah Electromaterials Inc.      NaN    NTD    87.0     NaN   \n",
      "2             3045   Taiwan Mobile Co., Ltd.      NaN    NTD   100.0     NaN   \n",
      "3                              ZZZZZZZ Total      NaN    NTD     0.0     NaN   \n",
      "4          D0BRF  Peng Bo Enterprise Limited  10000.0    NTD  1000.0   100.0   \n",
      "\n",
      "      fld009 fld010_c  ... niq_nicur  incomeq fld013  fld014   fld015 fld016  \\\n",
      "None                   ...                                                     \n",
      "0      24094           ...                NaN    NaN     NaN      NaN      N   \n",
      "1      13094     綜合公允  ...       NTD      NaN    NaN   150.5  13094.0      N   \n",
      "2      11000     綜合公允  ...       NTD      NaN    NaN   110.0  11000.0      N   \n",
      "3     232074           ...                NaN    NaN     NaN      NaN      N   \n",
      "4       7433      權益法  ...       NTD   -522.0    NaN     NaN      NaN      N   \n",
      "\n",
      "      inv_type  nation_c  nation_e         ind_note  \n",
      "None                                                 \n",
      "0                     台灣    Taiwan                   \n",
      "1            1        台灣    Taiwan   IC封裝材料及設備之代理經銷  \n",
      "2            1        台灣    Taiwan  第一類電信事業, 行動電話業務  \n",
      "3                     台灣    Taiwan                   \n",
      "4            1        台灣    Taiwan        高爾夫球具買賣經銷  \n",
      "\n",
      "[5 rows x 25 columns]\n"
     ]
    }
   ],
   "source": [
    "\n",
    "# 使用者希望轉置此欄位的值\n",
    "column_name = 'fld009'\n",
    "\n",
    "# 使用者指定要查詢並轉置的coid\n",
    "all_key3 = ['ZZZZZZZ合計']\n",
    "\n",
    "data = tejapi.get('TWN/AINV',mdate='2018-03-01')\n",
    "print(data.head(5))\n"
   ]
  },
  {
   "cell_type": "code",
   "execution_count": 23,
   "metadata": {},
   "outputs": [
    {
     "name": "stdout",
     "output_type": "stream",
     "text": [
      "                         mdate  coid  ZZZZZZZ合計\n",
      "None                                           \n",
      "0    2018-03-01 00:00:00+00:00  9962      24094\n",
      "3    2018-03-01 00:00:00+00:00  9960     232074\n",
      "22   2018-03-01 00:00:00+00:00  9958     700478\n",
      "27   2018-03-01 00:00:00+00:00  9955     404016\n",
      "32   2018-03-01 00:00:00+00:00  9951    1172212\n",
      "...                        ...   ...        ...\n",
      "9978 2018-03-01 00:00:00+00:00  2731     992586\n",
      "9985 2018-03-01 00:00:00+00:00  2729     422391\n",
      "9990 2018-03-01 00:00:00+00:00  2727    1775790\n",
      "9995 2018-03-01 00:00:00+00:00  2726     920181\n",
      "9999 2018-03-01 00:00:00+00:00  2724     349156\n",
      "\n",
      "[1174 rows x 3 columns]\n"
     ]
    }
   ],
   "source": [
    "acinv_2d = None\n",
    "for key3 in all_key3:\n",
    "    temp_data = data.loc[data['key3']==key3,['mdate','coid',column_name]].rename(columns={column_name:key3})\n",
    "    print(temp_data)\n",
    "    if acinv_2d is None:\n",
    "        acinv_2d = temp_data\n",
    "    else:\n",
    "        acinv_2d = acinv_2d.merge(temp_data,on=['mdate','coid'],how='outer')"
   ]
  },
  {
   "cell_type": "code",
   "execution_count": null,
   "metadata": {
    "collapsed": true
   },
   "outputs": [],
   "source": []
  }
 ],
 "metadata": {
  "kernelspec": {
   "display_name": "Python 3",
   "language": "python",
   "name": "python3"
  },
  "language_info": {
   "codemirror_mode": {
    "name": "ipython",
    "version": 3
   },
   "file_extension": ".py",
   "mimetype": "text/x-python",
   "name": "python",
   "nbconvert_exporter": "python",
   "pygments_lexer": "ipython3",
   "version": "3.6.3"
  }
 },
 "nbformat": 4,
 "nbformat_minor": 2
}
