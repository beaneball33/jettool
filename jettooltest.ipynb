{
 "cells": [
  {
   "cell_type": "code",
   "execution_count": 1,
   "metadata": {},
   "outputs": [],
   "source": [
    "from jettool import tools\n",
    "import pandas\n",
    "import numpy"
   ]
  },
  {
   "cell_type": "code",
   "execution_count": 2,
   "metadata": {},
   "outputs": [],
   "source": [
    "tejtool = tools.financial_tool()"
   ]
  },
  {
   "cell_type": "code",
   "execution_count": 3,
   "metadata": {
    "scrolled": true
   },
   "outputs": [
    {
     "data": {
      "text/plain": [
       "{'key': 'GDEy0mWAGqnI3EemCREGREZMcEVbnF',\n",
       " 'user': {'userId': 16,\n",
       "  'shortName': 'ZYX',\n",
       "  'name': '趙育祥',\n",
       "  'subscritionStartDate': '2018-01-01',\n",
       "  'subscritionEndDate': '2050-12-31',\n",
       "  'maxKey': 1,\n",
       "  'tables': {},\n",
       "  'emp': True},\n",
       " 'startDate': datetime.date(2018, 1, 1),\n",
       " 'endDate': None,\n",
       " 'todayRows': 2431326,\n",
       " 'monthRows': 49110469,\n",
       " 'todayReqCount': 688,\n",
       " 'rowsDayLimit': 10000000,\n",
       " 'rowsMonthLimit': 9223372036854775807,\n",
       " 'reqDayLimit': 100000,\n",
       " 'varEnabled': False,\n",
       " 'varMaxAssets': 500,\n",
       " 'varConcurrent': 1,\n",
       " 'varAllowAssetTypes': [],\n",
       " 'varAdvanced': False}"
      ]
     },
     "execution_count": 3,
     "metadata": {},
     "output_type": "execute_result"
    }
   ],
   "source": [
    "tejtool.set_apikey(\"GDEy0mWAGqnI3EemCREGREZMcEVbnF\")\n",
    "tejtool.get_info()"
   ]
  },
  {
   "cell_type": "code",
   "execution_count": null,
   "metadata": {},
   "outputs": [
    {
     "name": "stdout",
     "output_type": "stream",
     "text": [
      "資料起始日：2017-12-31\n",
      "查詢財報資料\n",
      "成功查詢會計家數:1673\n",
      "最大財報資料日期:2019-09-01\n",
      "查詢日資料 最大資料日期:2019-12-31\n",
      "上市(櫃)未調整股價(日)\n",
      "重新查詢:True\n",
      "{'mdate_up': numpy.datetime64('2019-12-31'), 'mdate_down': numpy.datetime64('2017-12-31')}\n"
     ]
    }
   ],
   "source": [
    "left_name = ['常續性稅後淨利','收盤價(元)','報酬率-Ln','個別風險','長期反轉(T-60~T-13)','董監持股%','大股東持股(TSE)%','經理人持股%','單月營收(千元)']\n",
    "data = tejtool.get_data(base_date='2019-12-31',window='24m',column_names=left_name)\n",
    "#tejtool.save_data()\n",
    "#data[data['coid']=='2330']"
   ]
  },
  {
   "cell_type": "code",
   "execution_count": null,
   "metadata": {},
   "outputs": [],
   "source": [
    "tejtool.prc_basedate[tejtool.prc_basedate['coid']=='2330']"
   ]
  },
  {
   "cell_type": "code",
   "execution_count": null,
   "metadata": {
    "collapsed": true
   },
   "outputs": [],
   "source": [
    "# -*- coding: utf-8 -*-\n",
    "calculate=[\"tejtool.data['兩年平均常續性稅後淨利'] = tejtool.calculate_moving('常續性稅後淨利',window='8q',col_kind='mean')\",\n",
    "\"tejtool.data['常續性稅後淨利檢查'] = tejtool.check_above('兩年平均常續性稅後淨利',0,window='1d')\"]\n",
    "evaluate=[\"tejtool.data['購入'] = tejtool.choose_setting(check_index='常續性稅後淨利檢查',reset_list=['01-01','04-01','07-01','10-01'])\",\n",
    "\"tejtool.data['unit'] = tejtool.equal_pv()\"]"
   ]
  },
  {
   "cell_type": "code",
   "execution_count": null,
   "metadata": {},
   "outputs": [],
   "source": [
    "tejtool.back_test(back_interval='2018-12-31',cash=1000000000,calculate=calculate,evaluate=evaluate)"
   ]
  },
  {
   "cell_type": "code",
   "execution_count": null,
   "metadata": {},
   "outputs": [],
   "source": [
    "tejtool.merge_prc_basedate[tejtool.merge_prc_basedate['coid']=='2330']"
   ]
  },
  {
   "cell_type": "code",
   "execution_count": null,
   "metadata": {},
   "outputs": [],
   "source": [
    "tejtool.prc_basedate[tejtool.prc_basedate['coid']=='2330']"
   ]
  },
  {
   "cell_type": "code",
   "execution_count": null,
   "metadata": {
    "collapsed": true
   },
   "outputs": [],
   "source": []
  }
 ],
 "metadata": {
  "kernelspec": {
   "display_name": "Python 3",
   "language": "python",
   "name": "python3"
  },
  "language_info": {
   "codemirror_mode": {
    "name": "ipython",
    "version": 3
   },
   "file_extension": ".py",
   "mimetype": "text/x-python",
   "name": "python",
   "nbconvert_exporter": "python",
   "pygments_lexer": "ipython3",
   "version": "3.6.3"
  }
 },
 "nbformat": 4,
 "nbformat_minor": 2
}
