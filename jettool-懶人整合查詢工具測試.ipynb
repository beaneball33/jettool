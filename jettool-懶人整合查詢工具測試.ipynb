{
 "cells": [
  {
   "cell_type": "code",
   "execution_count": 1,
   "metadata": {
    "scrolled": true
   },
   "outputs": [],
   "source": [
    "#以下四行是用來控制範例可以找到jettool\n",
    "import os,sys,inspect\n",
    "currentdir = os.path.dirname(os.path.abspath(inspect.getfile(inspect.currentframe())))\n",
    "parentdir = os.path.dirname(currentdir)\n",
    "sys.path.insert(0,parentdir) \n",
    "#import此功能套件需要的tejapi，但也可以不用\n",
    "import tejapi\n",
    "tejapi.ApiConfig.api_key =\"CEwRaqW61gOe5KcIssqCqIleChUlSu\""
   ]
  },
  {
   "cell_type": "markdown",
   "metadata": {},
   "source": [
    "# 初始化"
   ]
  },
  {
   "cell_type": "code",
   "execution_count": 2,
   "metadata": {
    "scrolled": false
   },
   "outputs": [
    {
     "name": "stdout",
     "output_type": "stream",
     "text": [
      "['使用者名稱：趙育祥(2013040101)', '使用權限日期：2018-01-01/2050-12-31', '日連線次數狀態：150/100000', '日查詢資料量狀態：1212610/10000000', '月查詢資料量狀態：1316816/9223372036854775807']\n",
      "查詢 tej資料索引\n",
      "查詢 公司交易面資料 權限\n",
      "查詢 公司營運面資料 權限\n",
      "查詢 信用風險分析 權限\n",
      "查詢 總體經濟資料 權限\n",
      "tej jettool初始化完成\n"
     ]
    }
   ],
   "source": [
    "import jettool\n",
    "# 初始化物件，可同時set Key\n",
    "tejtool = jettool.jet.engine(\"CEwRaqW61gOe5KcIssqCqIleChUlSu\")\n",
    "#tejtool.load_data()\n",
    "# 設定keyID，會自動查詢需要的資料表索引構造\n",
    "#tejtool.set_apikey(\"GDEy0mWAGqnI3EemCREGREZMcEVbnF\")"
   ]
  },
  {
   "cell_type": "code",
   "execution_count": 3,
   "metadata": {
    "scrolled": true
   },
   "outputs": [
    {
     "name": "stdout",
     "output_type": "stream",
     "text": [
      "資料起始日：2020-02-23\n",
      "查詢財報資料\n",
      "成功查詢會計家數:1957\n",
      "最大財報資料日期:2018-12-01\n",
      "查詢日交易資料 最大資料日期:2020-11-23\n",
      "TWN/AQFII\n",
      "外資法人持股 重新查詢:True\n",
      "TWN/APRCD\n",
      "上市(櫃)未調整股價(日) 重新查詢:True\n",
      "TWN/ASALE\n",
      "上市(櫃)月營收盈餘 重新查詢:True\n",
      "2020-11-20\n"
     ]
    },
    {
     "data": {
      "text/html": [
       "<div>\n",
       "<style scoped>\n",
       "    .dataframe tbody tr th:only-of-type {\n",
       "        vertical-align: middle;\n",
       "    }\n",
       "\n",
       "    .dataframe tbody tr th {\n",
       "        vertical-align: top;\n",
       "    }\n",
       "\n",
       "    .dataframe thead th {\n",
       "        text-align: right;\n",
       "    }\n",
       "</style>\n",
       "<table border=\"1\" class=\"dataframe\">\n",
       "  <thead>\n",
       "    <tr style=\"text-align: right;\">\n",
       "      <th></th>\n",
       "      <th>報酬率-Ln</th>\n",
       "      <th>成交量(千股)</th>\n",
       "      <th>單月營收(千元)</th>\n",
       "      <th>外資總投資股數</th>\n",
       "      <th>coid</th>\n",
       "      <th>常續性稅後淨利</th>\n",
       "      <th>開盤價(元)</th>\n",
       "      <th>最高價(元)</th>\n",
       "      <th>收盤價(元)</th>\n",
       "      <th>最低價(元)</th>\n",
       "      <th>zdate</th>\n",
       "      <th>流通在外股數(千股)</th>\n",
       "      <th>mdate</th>\n",
       "    </tr>\n",
       "  </thead>\n",
       "  <tbody>\n",
       "    <tr>\n",
       "      <th>111398</th>\n",
       "      <td>-0.3273</td>\n",
       "      <td>3844.933</td>\n",
       "      <td>4663492.0</td>\n",
       "      <td>4184.0</td>\n",
       "      <td>2338</td>\n",
       "      <td>0.0</td>\n",
       "      <td>29.95</td>\n",
       "      <td>30.50</td>\n",
       "      <td>30.50</td>\n",
       "      <td>29.65</td>\n",
       "      <td>2020-02-25</td>\n",
       "      <td>252713.0</td>\n",
       "      <td>2019-12-01</td>\n",
       "    </tr>\n",
       "    <tr>\n",
       "      <th>111399</th>\n",
       "      <td>-1.8197</td>\n",
       "      <td>3074.700</td>\n",
       "      <td>4663492.0</td>\n",
       "      <td>3480.0</td>\n",
       "      <td>2338</td>\n",
       "      <td>0.0</td>\n",
       "      <td>30.00</td>\n",
       "      <td>30.35</td>\n",
       "      <td>29.95</td>\n",
       "      <td>29.85</td>\n",
       "      <td>2020-02-26</td>\n",
       "      <td>252713.0</td>\n",
       "      <td>2019-12-01</td>\n",
       "    </tr>\n",
       "    <tr>\n",
       "      <th>111400</th>\n",
       "      <td>-3.9154</td>\n",
       "      <td>4846.693</td>\n",
       "      <td>4663492.0</td>\n",
       "      <td>2477.0</td>\n",
       "      <td>2338</td>\n",
       "      <td>0.0</td>\n",
       "      <td>30.15</td>\n",
       "      <td>30.40</td>\n",
       "      <td>28.80</td>\n",
       "      <td>28.70</td>\n",
       "      <td>2020-02-27</td>\n",
       "      <td>252713.0</td>\n",
       "      <td>2019-12-01</td>\n",
       "    </tr>\n",
       "    <tr>\n",
       "      <th>111401</th>\n",
       "      <td>-3.8943</td>\n",
       "      <td>10629.488</td>\n",
       "      <td>4663492.0</td>\n",
       "      <td>3975.0</td>\n",
       "      <td>2338</td>\n",
       "      <td>0.0</td>\n",
       "      <td>27.40</td>\n",
       "      <td>28.25</td>\n",
       "      <td>27.70</td>\n",
       "      <td>27.15</td>\n",
       "      <td>2020-03-02</td>\n",
       "      <td>252713.0</td>\n",
       "      <td>2019-12-01</td>\n",
       "    </tr>\n",
       "    <tr>\n",
       "      <th>111402</th>\n",
       "      <td>3.7205</td>\n",
       "      <td>4780.122</td>\n",
       "      <td>4663492.0</td>\n",
       "      <td>4801.0</td>\n",
       "      <td>2338</td>\n",
       "      <td>0.0</td>\n",
       "      <td>28.90</td>\n",
       "      <td>29.30</td>\n",
       "      <td>28.75</td>\n",
       "      <td>28.70</td>\n",
       "      <td>2020-03-03</td>\n",
       "      <td>252713.0</td>\n",
       "      <td>2019-12-01</td>\n",
       "    </tr>\n",
       "    <tr>\n",
       "      <th>...</th>\n",
       "      <td>...</td>\n",
       "      <td>...</td>\n",
       "      <td>...</td>\n",
       "      <td>...</td>\n",
       "      <td>...</td>\n",
       "      <td>...</td>\n",
       "      <td>...</td>\n",
       "      <td>...</td>\n",
       "      <td>...</td>\n",
       "      <td>...</td>\n",
       "      <td>...</td>\n",
       "      <td>...</td>\n",
       "      <td>...</td>\n",
       "    </tr>\n",
       "    <tr>\n",
       "      <th>111578</th>\n",
       "      <td>9.4546</td>\n",
       "      <td>49700.860</td>\n",
       "      <td>393251.0</td>\n",
       "      <td>4693.0</td>\n",
       "      <td>2338</td>\n",
       "      <td>-12961.0</td>\n",
       "      <td>30.40</td>\n",
       "      <td>32.70</td>\n",
       "      <td>32.70</td>\n",
       "      <td>30.40</td>\n",
       "      <td>2020-11-16</td>\n",
       "      <td>252713.0</td>\n",
       "      <td>2020-09-01</td>\n",
       "    </tr>\n",
       "    <tr>\n",
       "      <th>111579</th>\n",
       "      <td>1.5175</td>\n",
       "      <td>52734.444</td>\n",
       "      <td>393251.0</td>\n",
       "      <td>4239.0</td>\n",
       "      <td>2338</td>\n",
       "      <td>-12961.0</td>\n",
       "      <td>32.75</td>\n",
       "      <td>34.30</td>\n",
       "      <td>33.20</td>\n",
       "      <td>32.15</td>\n",
       "      <td>2020-11-17</td>\n",
       "      <td>252713.0</td>\n",
       "      <td>2020-09-01</td>\n",
       "    </tr>\n",
       "    <tr>\n",
       "      <th>111580</th>\n",
       "      <td>1.3463</td>\n",
       "      <td>17554.542</td>\n",
       "      <td>393251.0</td>\n",
       "      <td>4262.0</td>\n",
       "      <td>2338</td>\n",
       "      <td>-12961.0</td>\n",
       "      <td>33.05</td>\n",
       "      <td>33.80</td>\n",
       "      <td>33.65</td>\n",
       "      <td>32.80</td>\n",
       "      <td>2020-11-18</td>\n",
       "      <td>252713.0</td>\n",
       "      <td>2020-09-01</td>\n",
       "    </tr>\n",
       "    <tr>\n",
       "      <th>111581</th>\n",
       "      <td>3.3604</td>\n",
       "      <td>50784.516</td>\n",
       "      <td>393251.0</td>\n",
       "      <td>2170.0</td>\n",
       "      <td>2338</td>\n",
       "      <td>-12961.0</td>\n",
       "      <td>33.95</td>\n",
       "      <td>36.20</td>\n",
       "      <td>34.80</td>\n",
       "      <td>33.90</td>\n",
       "      <td>2020-11-19</td>\n",
       "      <td>252713.0</td>\n",
       "      <td>2020-09-01</td>\n",
       "    </tr>\n",
       "    <tr>\n",
       "      <th>111582</th>\n",
       "      <td>-2.3257</td>\n",
       "      <td>19219.528</td>\n",
       "      <td>393251.0</td>\n",
       "      <td>3716.0</td>\n",
       "      <td>2338</td>\n",
       "      <td>-12961.0</td>\n",
       "      <td>34.75</td>\n",
       "      <td>35.05</td>\n",
       "      <td>34.00</td>\n",
       "      <td>34.00</td>\n",
       "      <td>2020-11-20</td>\n",
       "      <td>252713.0</td>\n",
       "      <td>2020-09-01</td>\n",
       "    </tr>\n",
       "  </tbody>\n",
       "</table>\n",
       "<p>185 rows × 13 columns</p>\n",
       "</div>"
      ],
      "text/plain": [
       "        報酬率-Ln    成交量(千股)   單月營收(千元)  外資總投資股數  coid  常續性稅後淨利  開盤價(元)  最高價(元)  \\\n",
       "111398 -0.3273   3844.933  4663492.0   4184.0  2338      0.0   29.95   30.50   \n",
       "111399 -1.8197   3074.700  4663492.0   3480.0  2338      0.0   30.00   30.35   \n",
       "111400 -3.9154   4846.693  4663492.0   2477.0  2338      0.0   30.15   30.40   \n",
       "111401 -3.8943  10629.488  4663492.0   3975.0  2338      0.0   27.40   28.25   \n",
       "111402  3.7205   4780.122  4663492.0   4801.0  2338      0.0   28.90   29.30   \n",
       "...        ...        ...        ...      ...   ...      ...     ...     ...   \n",
       "111578  9.4546  49700.860   393251.0   4693.0  2338 -12961.0   30.40   32.70   \n",
       "111579  1.5175  52734.444   393251.0   4239.0  2338 -12961.0   32.75   34.30   \n",
       "111580  1.3463  17554.542   393251.0   4262.0  2338 -12961.0   33.05   33.80   \n",
       "111581  3.3604  50784.516   393251.0   2170.0  2338 -12961.0   33.95   36.20   \n",
       "111582 -2.3257  19219.528   393251.0   3716.0  2338 -12961.0   34.75   35.05   \n",
       "\n",
       "        收盤價(元)  最低價(元)      zdate  流通在外股數(千股)       mdate  \n",
       "111398   30.50   29.65 2020-02-25    252713.0  2019-12-01  \n",
       "111399   29.95   29.85 2020-02-26    252713.0  2019-12-01  \n",
       "111400   28.80   28.70 2020-02-27    252713.0  2019-12-01  \n",
       "111401   27.70   27.15 2020-03-02    252713.0  2019-12-01  \n",
       "111402   28.75   28.70 2020-03-03    252713.0  2019-12-01  \n",
       "...        ...     ...        ...         ...         ...  \n",
       "111578   32.70   30.40 2020-11-16    252713.0  2020-09-01  \n",
       "111579   33.20   32.15 2020-11-17    252713.0  2020-09-01  \n",
       "111580   33.65   32.80 2020-11-18    252713.0  2020-09-01  \n",
       "111581   34.80   33.90 2020-11-19    252713.0  2020-09-01  \n",
       "111582   34.00   34.00 2020-11-20    252713.0  2020-09-01  \n",
       "\n",
       "[185 rows x 13 columns]"
      ]
     },
     "execution_count": 3,
     "metadata": {},
     "output_type": "execute_result"
    }
   ],
   "source": [
    "month_data = {'id':'TWN/ASALE','columns_cname':['單月營收(千元)']}\n",
    "prc_data = {'id':'TWN/APRCD','columns_cname':['開盤價(元)','最高價(元)','最低價(元)','收盤價(元)','成交量(千股)','報酬率-Ln','流通在外股數(千股)']}\n",
    "data_name = ['常續性稅後淨利',prc_data,month_data,'外資總投資股數']\n",
    "#multi_factor = {'id':'TWN/AFF_RAW','columns_cname':['市值', '淨值市價比', '益本比', '股利殖利率', '動能(T-12~T-2)', '短期反轉(T-1)', '長期反轉(T-60~T-13)', '盈利能力(ROE)', '投資(資產成長率)', '違約距離(MERTON)', '違約距離(KMV)', '流動性', '個別風險', '產業集中度', '錯誤定價', '偏態係數', '研發密度']}\n",
    "#data_name = [prc_data]\n",
    "#data_name = ['常續性稅後淨利','收盤價(元)','報酬率-Ln','個別風險','長期反轉(T-60~T-13)','董監持股%','大股東持股(TSE)%','經理人持股%','單月營收(千元)']\n",
    "#fama_name = tejtool.get_table_columns('TWN/AFF_RAW')\n",
    "#data_name = ['常續性稅後淨利','流通在外股數(千股)',{'id': 'TWN/APRCD', 'columns_cname':['開盤價(元)','收盤價(元)']},'台灣-進口-主要貨品-精密儀器(一般貿易制)-美元-年_數值','單月營收(千元)']\n",
    "data = tejtool.query_data(base_date='2020-11-23',window='9m',column_names=data_name)\n",
    "#tejtool.save_data()\n",
    "data[data['coid']=='2338']"
   ]
  },
  {
   "cell_type": "code",
   "execution_count": 5,
   "metadata": {},
   "outputs": [
    {
     "name": "stdout",
     "output_type": "stream",
     "text": [
      "2020-11-20\n"
     ]
    }
   ],
   "source": [
    "data = tejtool.get_data(window='3m',column_names=['收盤價(元)','報酬率-Ln','單月營收(千元)','外資總投資股數'])\n",
    "#data['zdate'] = pandas.to_datetime(data['zdate'].values,utc=True)"
   ]
  },
  {
   "cell_type": "markdown",
   "metadata": {},
   "source": [
    "# 資料結構資訊"
   ]
  },
  {
   "cell_type": "code",
   "execution_count": null,
   "metadata": {},
   "outputs": [],
   "source": [
    "# 尋找某個table的mapping資料次屬性，可以用來知道你查的table，在其他國家是什麼table\n",
    "tejtool.dbapi.get_table_mapping('TWN/AIND')"
   ]
  },
  {
   "cell_type": "code",
   "execution_count": null,
   "metadata": {},
   "outputs": [],
   "source": [
    "tejtool.dbapi.search_column(keyword='股利',condition='or')"
   ]
  },
  {
   "cell_type": "code",
   "execution_count": null,
   "metadata": {},
   "outputs": [],
   "source": [
    "# 取得該table除了PK以外的欄位名稱，用來簡化查詢步驟，無腦一口氣整個表匯入\n",
    "tejtool.dbapi.get_table_columns(table_name='TWN/AFF_RAW')"
   ]
  },
  {
   "cell_type": "code",
   "execution_count": null,
   "metadata": {},
   "outputs": [],
   "source": [
    "# 用模糊字串來查詢確切的會計科目名稱\n",
    "tejtool.find_account_name('常續性')"
   ]
  },
  {
   "cell_type": "code",
   "execution_count": null,
   "metadata": {},
   "outputs": [],
   "source": [
    "# 使用此函式可查詢總經資料表內的名稱與代碼的對照\n",
    "tejtool.compare_code_name(table_name='GLOBAL/GIDX',query_columns=['台灣加權股價指數','美國紐約綜合股價指數'])"
   ]
  },
  {
   "cell_type": "code",
   "execution_count": null,
   "metadata": {},
   "outputs": [],
   "source": [
    "tejtool.table_list.get('TWN').get('ACINV')"
   ]
  },
  {
   "cell_type": "code",
   "execution_count": null,
   "metadata": {},
   "outputs": [],
   "source": [
    "tejtool.all_prc_dataset"
   ]
  },
  {
   "cell_type": "markdown",
   "metadata": {},
   "source": [
    "# 整合查詢器\n",
    "### 一次查詢全部整合完成\n",
    "#### 一個名稱、可到不同資料表查詢相對應的資料\n",
    "#### 需正確定義名稱的精確差異"
   ]
  },
  {
   "cell_type": "code",
   "execution_count": null,
   "metadata": {},
   "outputs": [],
   "source": [
    "cnames = ['雜項工業存貨量指數(2001=100)年_數值','精密器械業存貨量指數(2001=100)年_數值']\n",
    "data = tejtool.get_available_name(column_names=cnames,category=1)\n",
    "data\n",
    "\n",
    "#tejtool.macro_mapping_coids.get('GLOBAL/ANMAR').get('fullname_map')"
   ]
  },
  {
   "cell_type": "code",
   "execution_count": null,
   "metadata": {},
   "outputs": [],
   "source": [
    "tejtool.macro_mapping_coids.get('GLOBAL/ANMAR').get('fullname_map').get('精密器械業存貨量指數(2001=100)年_數值')"
   ]
  },
  {
   "cell_type": "code",
   "execution_count": null,
   "metadata": {},
   "outputs": [],
   "source": [
    "# 用來取得 某個日期以前最接近的交易日\n",
    "tejtool.get_zdate('2019-08-16')"
   ]
  },
  {
   "cell_type": "code",
   "execution_count": null,
   "metadata": {},
   "outputs": [],
   "source": [
    "tejtool.make_famamacbethmodel(col_name='報酬率-Ln',check_index=['市值', '淨值市價比', '益本比', '股利殖利率', '動能(T-12~T-2)', '短期反轉(T-1)', '長期反轉(T-60~T-13)', '盈利能力(ROE)', '投資(資產成長率)', '違約距離(MERTON)', '違約距離(KMV)', '流動性', '個別風險', '產業集中度', '錯誤定價', '偏態係數', '研發密度'],window ='12m',alpha_rate = 5)"
   ]
  },
  {
   "cell_type": "markdown",
   "metadata": {},
   "source": [
    "# 回測工具，與quantjet網站同一套"
   ]
  },
  {
   "cell_type": "code",
   "execution_count": null,
   "metadata": {},
   "outputs": [],
   "source": [
    "import dill\n",
    "#with open('tejtool.pkl', 'wb') as file:\n",
    "#    dill.dump(tejtool, file)\n",
    "with open('current-user-context.pkl', 'rb') as file:\n",
    "    tejtool = dill.load(file)"
   ]
  },
  {
   "cell_type": "code",
   "execution_count": null,
   "metadata": {},
   "outputs": [],
   "source": [
    "tejtool"
   ]
  },
  {
   "cell_type": "code",
   "execution_count": null,
   "metadata": {},
   "outputs": [],
   "source": [
    "tejtool.prc_basedate.to_csv('mu_data.csv',index=False)\n",
    "tejtool.benchmark_roi.to_csv('benchmark_roi.csv',index=False)\n",
    "tejtool.basic_info.to_csv('basic_info.csv',index=False)\n",
    "tejtool.findata_all.to_csv('findata_all.csv',index=False)"
   ]
  },
  {
   "cell_type": "code",
   "execution_count": null,
   "metadata": {},
   "outputs": [],
   "source": [
    "import jettool\n",
    "import pandas\n",
    "import numpy\n",
    "tejtool = jettool.jet.engine()\n",
    "tejtool.set_data()\n",
    "tejtool.applied = True"
   ]
  },
  {
   "cell_type": "code",
   "execution_count": null,
   "metadata": {},
   "outputs": [],
   "source": [
    "# 定義計算式，然後使用back_test函式即可回測，目前欠缺自動查詢函式內需要資料欄位(即quantjet網站js檔的功能)的程序\n",
    "\n",
    "def calculate():\n",
    "    tejtool.data['EP'] = tejtool.data['常續性稅後淨利']/tejtool.data['收盤價(元)']\n",
    "    tejtool.data['常續性稅後淨利檢查'] = tejtool.check_above('EP',0,window='1d')\n",
    "    \n",
    "    tejtool.data['益本比排名'] = tejtool.sort_crossing('益本比',method='percentile',ascending=True)\n",
    "    tejtool.data['股價淨值比排名'] = tejtool.sort_crossing('淨值市價比',method='percentile',ascending=True)\n",
    "    tejtool.data['股利率排名'] = tejtool.sort_crossing('股利殖利率',method='percentile',ascending=True)\n",
    "    \n",
    "    tejtool.data['門檻條件'] = 0.70\n",
    "    tejtool.data['益本比排名檢查'] = tejtool.check_above('益本比排名','門檻條件')\n",
    "    tejtool.data['股價淨值比排名檢查'] = tejtool.check_above('股價淨值比排名','門檻條件')\n",
    "    tejtool.data['股利率排名檢查'] = tejtool.check_above('股利率排名','門檻條件')\n",
    "    \n",
    "def evaluate():\n",
    "    tejtool.data['購入檢查'] = tejtool.check_condition(check_type='and',conditions=['益本比排名檢查','股價淨值比排名檢查','股利率排名檢查'])\n",
    "    tejtool.data['購入'] = tejtool.choose_setting('購入檢查',reset_list='01')\n",
    "    tejtool.data['unit'] = tejtool.equal_pv()\n",
    "\n",
    "# 另外必須輸入用來當作市價與報酬率的欄位名稱，如:roib_name='報酬率-Ln',closed_name ='收盤價(元)'\n",
    "# 若不輸入，則使用此預設值\n",
    "tejtool.back_test(back_interval=['2019-11-01','2020-04-10'],cash=1000000000,calculate=calculate,evaluate=evaluate)"
   ]
  },
  {
   "cell_type": "code",
   "execution_count": null,
   "metadata": {},
   "outputs": [],
   "source": [
    "tejtool.all_date_data.loc[(tejtool.all_date_data['股價淨值比排名']>0)&(tejtool.all_date_data['zdate']=='2019-11-07'),['coid','益本比','益本比排名','淨值市價比','股價淨值比排名','股利殖利率','股利率排名']]"
   ]
  },
  {
   "cell_type": "code",
   "execution_count": null,
   "metadata": {
    "scrolled": true
   },
   "outputs": [],
   "source": [
    "def calculate(tejtool):\n",
    "    tejtool.data['報酬率']=tejtool.calculate_growthrate(check_index='收盤價(元)',window='1m',fix_date='01',method='geometric')\n",
    "    tejtool.data['famamodel']=tejtool.make_famamacbethmodel(col_name='報酬率-Ln',check_index=['市值', '淨值市價比', '益本比', '股利殖利率', '動能(T-12~T-2)', '短期反轉(T-1)', '長期反轉(T-60~T-13)', '盈利能力(ROE)', '投資(資產成長率)', '違約距離(MERTON)', '違約距離(KMV)', '流動性', '個別風險', '產業集中度', '錯誤定價', '偏態係數', '研發密度'],window ='24m',alpha_rate = 5,reset_list = '01')\n",
    "    tejtool.data['famascore']=tejtool.run_famascore(rank_above=100,class_count = 10) \n",
    "    tejtool.data['fama分組當月報酬']=tejtool.calculate_crossing(check_index='報酬率',window='1d',weight='市值',col_kind='mean')\n",
    "def evaluate(tejtool):\n",
    "    tejtool.data['fama分組判斷'] =tejtool.abnormal_selection(check_index='fama分組當月報酬',group_name='famascore',window='12m',keep='first')\n",
    "    tejtool.data['購入']=tejtool.check_condition(conditions=['fama分組判斷'],check_type='and') \n",
    "    tejtool.data['unit'] = tejtool.equal_pv()\n",
    "tejtool.back_test(back_interval='2019-3-29',cash=1000000000,calculate=calculate,evaluate=evaluate)"
   ]
  },
  {
   "cell_type": "code",
   "execution_count": null,
   "metadata": {},
   "outputs": [],
   "source": [
    "import tejapi\n",
    "tejapi.ApiConfig.api_key =\"GDEy0mWAGqnI3EemCREGREZMcEVbnF\"\n",
    "stdate = '2018-01-01'\n",
    "endate = '2020-01-01'\n",
    "df = tejapi.get('TWN/AMT1', \n",
    "           coid = '2330',\n",
    "           mdate = {'gte':stdate, 'lte':endate}, \n",
    "           opts ={'columns':['mdate','int_time','r16a','mt_div','div_date'], \n",
    "           'sort':['mdate.asc', 'coid.asc']},\n",
    "           paginate=True)\n",
    "df"
   ]
  },
  {
   "cell_type": "code",
   "execution_count": null,
   "metadata": {},
   "outputs": [],
   "source": [
    "stdate = '2018-01-01'\n",
    "endate = '2020-01-01'\n",
    "df = tejapi.get('TWN/AMT', \n",
    "           coid='2330',\n",
    "           eyy = {'gte':stdate, 'lte':endate}, \n",
    "           opts ={'columns':['mdate','edir_d','coid','key3','eyy','mt_div','edexdate'], \n",
    "           'sort':['mdate.asc', 'coid.asc']},\n",
    "           paginate=True)\n",
    "df"
   ]
  },
  {
   "cell_type": "code",
   "execution_count": null,
   "metadata": {},
   "outputs": [],
   "source": [
    "df = tejapi.get('TWN/AIDXS',mdate='2020-03-31',coid='Y9999')"
   ]
  },
  {
   "cell_type": "code",
   "execution_count": null,
   "metadata": {},
   "outputs": [],
   "source": [
    "df"
   ]
  },
  {
   "cell_type": "code",
   "execution_count": null,
   "metadata": {},
   "outputs": [],
   "source": []
  }
 ],
 "metadata": {
  "kernelspec": {
   "display_name": "Python 3",
   "language": "python",
   "name": "python3"
  },
  "language_info": {
   "codemirror_mode": {
    "name": "ipython",
    "version": 3
   },
   "file_extension": ".py",
   "mimetype": "text/x-python",
   "name": "python",
   "nbconvert_exporter": "python",
   "pygments_lexer": "ipython3",
   "version": "3.8.3"
  }
 },
 "nbformat": 4,
 "nbformat_minor": 2
}
