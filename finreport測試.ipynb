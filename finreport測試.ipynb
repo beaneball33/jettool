{
 "cells": [
  {
   "cell_type": "code",
   "execution_count": null,
   "metadata": {
    "collapsed": true
   },
   "outputs": [],
   "source": [
    "import jettool.dataset.finreport as fp\n",
    "#fp.api_key = \"GDEy0mWAGqnI3EemCREGREZMcEVbnF\" #這是員工KEY\n",
    "fp.api_key = \"6CSAoCCL7E2sgmPaSTTNGo2Y1eB0Dg\" #這是外包KEY"
   ]
  },
  {
   "cell_type": "code",
   "execution_count": null,
   "metadata": {},
   "outputs": [],
   "source": [
    "fp.inital_report()\n",
    "fp.params.accountData.head(3)"
   ]
  },
  {
   "cell_type": "code",
   "execution_count": null,
   "metadata": {},
   "outputs": [],
   "source": [
    "fp.get_by_cgrp(['損益表'])"
   ]
  },
  {
   "cell_type": "code",
   "execution_count": null,
   "metadata": {},
   "outputs": [],
   "source": [
    "acc_names = fp.get_by_word('常續性').values.tolist()\n",
    "acc_names"
   ]
  },
  {
   "cell_type": "code",
   "execution_count": null,
   "metadata": {},
   "outputs": [],
   "source": [
    "acc_codes = fp.get_acc_code(acc_names)\n",
    "acc_codes"
   ]
  },
  {
   "cell_type": "code",
   "execution_count": null,
   "metadata": {},
   "outputs": [],
   "source": [
    "fp.get_announce(sample_dates=['2015-01-02','2019-01-02']).head(3)"
   ]
  },
  {
   "cell_type": "code",
   "execution_count": null,
   "metadata": {},
   "outputs": [],
   "source": [
    "fin_data = fp.get_report(query_code=acc_codes,sample_dates=['2015-01-02','2019-01-02']).head(3)"
   ]
  },
  {
   "cell_type": "code",
   "execution_count": 3,
   "metadata": {},
   "outputs": [
    {
     "data": {
      "text/plain": [
       "dict_keys(['__name__', '__doc__', '__package__', '__loader__', '__spec__', '__builtin__', '__builtins__', '_ih', '_oh', '_dh', 'In', 'Out', 'get_ipython', 'exit', 'quit', '_', '__', '___', '_i', '_ii', '_iii', '_i1', 'dill', '_i2', 'user_id', 'pkl_name', '_i3', 'fp', '_2', '_3', '_i4', 'acc_names', '_4', '_i5', 'acc_codes', '_5', '_i6', '_6', '_i7', 'fin_data', '_i8'])"
      ]
     },
     "execution_count": 3,
     "metadata": {},
     "output_type": "execute_result"
    }
   ],
   "source": [
    "import dill\n",
    "user_id = '6CSAoCCL7E2sgmPaSTTNGo2Y1eB0Dg'\n",
    "pkl_name=user_id+'.pkl'\n",
    "#dill.dump_session(pkl_name)\n",
    "dill.load_session(pkl_name)\n",
    "globals().keys()"
   ]
  },
  {
   "cell_type": "code",
   "execution_count": 4,
   "metadata": {},
   "outputs": [
    {
     "data": {
      "text/html": [
       "<div>\n",
       "<style scoped>\n",
       "    .dataframe tbody tr th:only-of-type {\n",
       "        vertical-align: middle;\n",
       "    }\n",
       "\n",
       "    .dataframe tbody tr th {\n",
       "        vertical-align: top;\n",
       "    }\n",
       "\n",
       "    .dataframe thead th {\n",
       "        text-align: right;\n",
       "    }\n",
       "</style>\n",
       "<table border=\"1\" class=\"dataframe\">\n",
       "  <thead>\n",
       "    <tr style=\"text-align: right;\">\n",
       "      <th></th>\n",
       "      <th>coid</th>\n",
       "      <th>mdate</th>\n",
       "      <th>zdate</th>\n",
       "      <th>常續性稅後淨利</th>\n",
       "      <th>近四季常續性每股盈餘</th>\n",
       "      <th>ndate</th>\n",
       "    </tr>\n",
       "  </thead>\n",
       "  <tbody>\n",
       "    <tr>\n",
       "      <th>0</th>\n",
       "      <td>2002</td>\n",
       "      <td>2018-09-01</td>\n",
       "      <td>2018-11-12</td>\n",
       "      <td>9066554.0</td>\n",
       "      <td>1.62</td>\n",
       "      <td>2019-03-01</td>\n",
       "    </tr>\n",
       "    <tr>\n",
       "      <th>1</th>\n",
       "      <td>2330</td>\n",
       "      <td>2018-09-01</td>\n",
       "      <td>2018-11-13</td>\n",
       "      <td>90012762.0</td>\n",
       "      <td>13.61</td>\n",
       "      <td>2019-03-01</td>\n",
       "    </tr>\n",
       "    <tr>\n",
       "      <th>2</th>\n",
       "      <td>2882</td>\n",
       "      <td>2018-09-01</td>\n",
       "      <td>2018-11-29</td>\n",
       "      <td>18582580.0</td>\n",
       "      <td>4.84</td>\n",
       "      <td>2019-03-01</td>\n",
       "    </tr>\n",
       "  </tbody>\n",
       "</table>\n",
       "</div>"
      ],
      "text/plain": [
       "   coid      mdate      zdate     常續性稅後淨利  近四季常續性每股盈餘      ndate\n",
       "0  2002 2018-09-01 2018-11-12   9066554.0        1.62 2019-03-01\n",
       "1  2330 2018-09-01 2018-11-13  90012762.0       13.61 2019-03-01\n",
       "2  2882 2018-09-01 2018-11-29  18582580.0        4.84 2019-03-01"
      ]
     },
     "execution_count": 4,
     "metadata": {},
     "output_type": "execute_result"
    }
   ],
   "source": [
    "fin_data"
   ]
  },
  {
   "cell_type": "markdown",
   "metadata": {},
   "source": [
    "## 重編財報功能"
   ]
  },
  {
   "cell_type": "code",
   "execution_count": null,
   "metadata": {
    "collapsed": true
   },
   "outputs": [],
   "source": [
    "fp.get_by_cgrp(['損益表'],active_view=True)"
   ]
  },
  {
   "cell_type": "code",
   "execution_count": null,
   "metadata": {
    "collapsed": true
   },
   "outputs": [],
   "source": [
    "acc_names = fp.get_by_word('淨利潤',active_view=True).values.tolist()\n",
    "acc_names"
   ]
  },
  {
   "cell_type": "code",
   "execution_count": null,
   "metadata": {
    "collapsed": true
   },
   "outputs": [],
   "source": [
    "acc_codes = fp.get_acc_code(acc_names,active_view=True)\n",
    "acc_codes"
   ]
  },
  {
   "cell_type": "code",
   "execution_count": null,
   "metadata": {
    "collapsed": true
   },
   "outputs": [],
   "source": [
    "fp.get_announce(sample_dates=['2015-01-02','2019-01-02']).head(3)"
   ]
  },
  {
   "cell_type": "code",
   "execution_count": null,
   "metadata": {
    "collapsed": true
   },
   "outputs": [],
   "source": [
    "fp.get_active_report(query_code=acc_codes,sample_dates=['2015-01-02','2019-01-02'])"
   ]
  },
  {
   "cell_type": "code",
   "execution_count": null,
   "metadata": {
    "collapsed": true
   },
   "outputs": [],
   "source": []
  }
 ],
 "metadata": {
  "kernelspec": {
   "display_name": "Python 3",
   "language": "python",
   "name": "python3"
  },
  "language_info": {
   "codemirror_mode": {
    "name": "ipython",
    "version": 3
   },
   "file_extension": ".py",
   "mimetype": "text/x-python",
   "name": "python",
   "nbconvert_exporter": "python",
   "pygments_lexer": "ipython3",
   "version": "3.6.3"
  }
 },
 "nbformat": 4,
 "nbformat_minor": 2
}
