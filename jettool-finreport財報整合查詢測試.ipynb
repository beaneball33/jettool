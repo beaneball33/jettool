{
 "cells": [
  {
   "cell_type": "code",
   "execution_count": 1,
   "metadata": {},
   "outputs": [],
   "source": [
    "#以下四行是用來控制範例可以找到jettool\n",
    "import os,sys,inspect\n",
    "currentdir = os.path.dirname(os.path.abspath(inspect.getfile(inspect.currentframe())))\n",
    "parentdir = os.path.dirname(currentdir)\n",
    "sys.path.insert(0,parentdir) \n",
    "#import此功能套件\n",
    "import tejapi\n",
    "tejapi.ApiConfig.api_key =\"CEwRaqW61gOe5KcIssqCqIleChUlSu\"\n",
    "import jettool.dataset.finreport as fp"
   ]
  },
  {
   "cell_type": "code",
   "execution_count": 2,
   "metadata": {},
   "outputs": [
    {
     "data": {
      "text/html": [
       "<div>\n",
       "<style scoped>\n",
       "    .dataframe tbody tr th:only-of-type {\n",
       "        vertical-align: middle;\n",
       "    }\n",
       "\n",
       "    .dataframe tbody tr th {\n",
       "        vertical-align: top;\n",
       "    }\n",
       "\n",
       "    .dataframe thead th {\n",
       "        text-align: right;\n",
       "    }\n",
       "</style>\n",
       "<table border=\"1\" class=\"dataframe\">\n",
       "  <thead>\n",
       "    <tr style=\"text-align: right;\">\n",
       "      <th></th>\n",
       "      <th>id</th>\n",
       "      <th>code</th>\n",
       "      <th>acseq</th>\n",
       "      <th>cname</th>\n",
       "      <th>ename</th>\n",
       "      <th>unit</th>\n",
       "      <th>cgrp</th>\n",
       "      <th>egrp</th>\n",
       "    </tr>\n",
       "    <tr>\n",
       "      <th>None</th>\n",
       "      <th></th>\n",
       "      <th></th>\n",
       "      <th></th>\n",
       "      <th></th>\n",
       "      <th></th>\n",
       "      <th></th>\n",
       "      <th></th>\n",
       "      <th></th>\n",
       "    </tr>\n",
       "  </thead>\n",
       "  <tbody>\n",
       "    <tr>\n",
       "      <th>1487</th>\n",
       "      <td>AIM4</td>\n",
       "      <td>1129</td>\n",
       "      <td>621</td>\n",
       "      <td>BS以成本衡量之金融負債－流動</td>\n",
       "      <td>BS-Financial liabilities carried at cost - Cur...</td>\n",
       "      <td>T</td>\n",
       "      <td>停止維護</td>\n",
       "      <td>Disable Maintenance</td>\n",
       "    </tr>\n",
       "    <tr>\n",
       "      <th>1300</th>\n",
       "      <td>AIM4</td>\n",
       "      <td>012N</td>\n",
       "      <td>613</td>\n",
       "      <td>BS以成本衡量之金融資產－流動</td>\n",
       "      <td>BS-Current financial assets at cost, net</td>\n",
       "      <td>T</td>\n",
       "      <td>停止維護</td>\n",
       "      <td>Disable Maintenance</td>\n",
       "    </tr>\n",
       "    <tr>\n",
       "      <th>286</th>\n",
       "      <td>AIHM4</td>\n",
       "      <td>0840</td>\n",
       "      <td>862</td>\n",
       "      <td>BS其他金融資產（IFRS)</td>\n",
       "      <td>BS-Other financial assets, net (IFRS)</td>\n",
       "      <td>T</td>\n",
       "      <td>停止維護</td>\n",
       "      <td>Disable Maintenance</td>\n",
       "    </tr>\n",
       "  </tbody>\n",
       "</table>\n",
       "</div>"
      ],
      "text/plain": [
       "         id  code  acseq            cname  \\\n",
       "None                                        \n",
       "1487   AIM4  1129    621  BS以成本衡量之金融負債－流動   \n",
       "1300   AIM4  012N    613  BS以成本衡量之金融資產－流動   \n",
       "286   AIHM4  0840    862   BS其他金融資產（IFRS)   \n",
       "\n",
       "                                                  ename unit  cgrp  \\\n",
       "None                                                                 \n",
       "1487  BS-Financial liabilities carried at cost - Cur...    T  停止維護   \n",
       "1300           BS-Current financial assets at cost, net    T  停止維護   \n",
       "286               BS-Other financial assets, net (IFRS)    T  停止維護   \n",
       "\n",
       "                     egrp  \n",
       "None                       \n",
       "1487  Disable Maintenance  \n",
       "1300  Disable Maintenance  \n",
       "286   Disable Maintenance  "
      ]
     },
     "execution_count": 2,
     "metadata": {},
     "output_type": "execute_result"
    }
   ],
   "source": [
    "fp.inital_report()\n",
    "fp.params.accountData.head(3)"
   ]
  },
  {
   "cell_type": "code",
   "execution_count": 3,
   "metadata": {},
   "outputs": [
    {
     "data": {
      "text/plain": [
       "0          不動產、廠房及設備減損損失\n",
       "1        不動產、廠房及設備減損迴轉利益\n",
       "2        不重分類至損益項目合計－OCI\n",
       "3                   佣金費用\n",
       "4               保證責任準備提存\n",
       "             ...        \n",
       "257       非金融資產減損損失及迴轉利益\n",
       "258             預期信用減損利益\n",
       "259         預期信用減損（損失）利益\n",
       "260    預期信用減損（損失）利益－營業費用\n",
       "261                顧問費收入\n",
       "Name: cname, Length: 262, dtype: object"
      ]
     },
     "execution_count": 3,
     "metadata": {},
     "output_type": "execute_result"
    }
   ],
   "source": [
    "fp.get_by_cgrp(['損益表'])"
   ]
  },
  {
   "cell_type": "code",
   "execution_count": 4,
   "metadata": {},
   "outputs": [
    {
     "data": {
      "text/plain": [
       "['常續性稅後淨利', '近四季常續性每股盈餘']"
      ]
     },
     "execution_count": 4,
     "metadata": {},
     "output_type": "execute_result"
    }
   ],
   "source": [
    "acc_names = fp.get_by_word('常續性').values.tolist()\n",
    "acc_names"
   ]
  },
  {
   "cell_type": "code",
   "execution_count": null,
   "metadata": {},
   "outputs": [],
   "source": [
    "acc_codes = fp.get_acc_code(acc_names)\n",
    "acc_codes"
   ]
  },
  {
   "cell_type": "code",
   "execution_count": null,
   "metadata": {
    "collapsed": true
   },
   "outputs": [],
   "source": [
    "fp.get_announce(sample_dates=['2015-01-02','2019-01-02']).head(3)"
   ]
  },
  {
   "cell_type": "code",
   "execution_count": null,
   "metadata": {
    "collapsed": true
   },
   "outputs": [],
   "source": [
    "fin_data = fp.get_report(query_code=acc_codes,sample_dates=['2015-01-02','2019-01-02']).head(3)"
   ]
  },
  {
   "cell_type": "code",
   "execution_count": null,
   "metadata": {
    "collapsed": true
   },
   "outputs": [],
   "source": [
    "fin_data"
   ]
  },
  {
   "cell_type": "markdown",
   "metadata": {},
   "source": [
    "## 重編財報功能"
   ]
  },
  {
   "cell_type": "code",
   "execution_count": null,
   "metadata": {
    "collapsed": true
   },
   "outputs": [],
   "source": [
    "fp.get_by_cgrp(['損益表'],active_view=True)"
   ]
  },
  {
   "cell_type": "code",
   "execution_count": null,
   "metadata": {
    "collapsed": true
   },
   "outputs": [],
   "source": [
    "acc_names = fp.get_by_word('淨利潤',active_view=True).values.tolist()\n",
    "acc_names"
   ]
  },
  {
   "cell_type": "code",
   "execution_count": null,
   "metadata": {
    "collapsed": true
   },
   "outputs": [],
   "source": [
    "acc_codes = fp.get_acc_code(acc_names,active_view=True)\n",
    "acc_codes"
   ]
  },
  {
   "cell_type": "code",
   "execution_count": null,
   "metadata": {
    "collapsed": true
   },
   "outputs": [],
   "source": [
    "fp.get_announce(sample_dates=['2015-01-02','2019-01-02']).head(3)"
   ]
  },
  {
   "cell_type": "code",
   "execution_count": null,
   "metadata": {
    "collapsed": true
   },
   "outputs": [],
   "source": [
    "fp.get_active_report(query_code=acc_codes,sample_dates=['2015-01-02','2019-01-02'])"
   ]
  },
  {
   "cell_type": "code",
   "execution_count": null,
   "metadata": {
    "collapsed": true
   },
   "outputs": [],
   "source": []
  }
 ],
 "metadata": {
  "kernelspec": {
   "display_name": "Python 3",
   "language": "python",
   "name": "python3"
  },
  "language_info": {
   "codemirror_mode": {
    "name": "ipython",
    "version": 3
   },
   "file_extension": ".py",
   "mimetype": "text/x-python",
   "name": "python",
   "nbconvert_exporter": "python",
   "pygments_lexer": "ipython3",
   "version": "3.8.3"
  }
 },
 "nbformat": 4,
 "nbformat_minor": 2
}
