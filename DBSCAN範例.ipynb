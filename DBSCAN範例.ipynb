{
 "cells": [
  {
   "cell_type": "code",
   "execution_count": 1,
   "metadata": {
    "collapsed": true
   },
   "outputs": [],
   "source": [
    "# 匯入工具模組\n",
    "from jettool import tools\n",
    "import pandas\n",
    "import numpy"
   ]
  },
  {
   "cell_type": "code",
   "execution_count": 2,
   "metadata": {},
   "outputs": [
    {
     "name": "stdout",
     "output_type": "stream",
     "text": [
      "['使用者名稱：趙育祥(ZYX)', '使用權限日期：2018-01-01/2050-12-31', '日連線次數狀態：1334/100000', '日查詢資料量狀態：9854211/10000000', '月查 詢資料量狀態：53848832/9223372036854775807']\n"
     ]
    }
   ],
   "source": [
    "# 初始化物件，可同時set Key\n",
    "tejtool = tools.financial_tool(api_key=\"GDEy0mWAGqnI3EemCREGREZMcEVbnF\")"
   ]
  },
  {
   "cell_type": "code",
   "execution_count": 5,
   "metadata": {},
   "outputs": [
    {
     "name": "stdout",
     "output_type": "stream",
     "text": [
      "資料起始日：2018-12-31\n",
      "查詢財報資料\n",
      "成功查詢會計家數:1970\n",
      "最大財報資料日期:2019-09-01\n",
      "查詢日資料 最大資料日期:2019-12-31\n",
      "借券餘額 重新查詢:False\n",
      "上市(櫃)調整股價(日)-除權息調整 重新查詢:False\n"
     ]
    },
    {
     "data": {
      "text/html": [
       "<div>\n",
       "<style scoped>\n",
       "    .dataframe tbody tr th:only-of-type {\n",
       "        vertical-align: middle;\n",
       "    }\n",
       "\n",
       "    .dataframe tbody tr th {\n",
       "        vertical-align: top;\n",
       "    }\n",
       "\n",
       "    .dataframe thead th {\n",
       "        text-align: right;\n",
       "    }\n",
       "</style>\n",
       "<table border=\"1\" class=\"dataframe\">\n",
       "  <thead>\n",
       "    <tr style=\"text-align: right;\">\n",
       "      <th></th>\n",
       "      <th>zdate</th>\n",
       "      <th>mdate</th>\n",
       "      <th>coid</th>\n",
       "      <th>收盤價(元)</th>\n",
       "      <th>常續性稅後淨利</th>\n",
       "      <th>報酬率-Ln</th>\n",
       "      <th>單月營收(千元)</th>\n",
       "    </tr>\n",
       "  </thead>\n",
       "  <tbody>\n",
       "    <tr>\n",
       "      <th>144838</th>\n",
       "      <td>2019-01-03</td>\n",
       "      <td>2018-12-01</td>\n",
       "      <td>2330</td>\n",
       "      <td>215.5</td>\n",
       "      <td>0.0</td>\n",
       "      <td>-1.8391</td>\n",
       "      <td>NaN</td>\n",
       "    </tr>\n",
       "    <tr>\n",
       "      <th>144839</th>\n",
       "      <td>2019-01-04</td>\n",
       "      <td>2018-12-01</td>\n",
       "      <td>2330</td>\n",
       "      <td>208.0</td>\n",
       "      <td>0.0</td>\n",
       "      <td>-3.5423</td>\n",
       "      <td>NaN</td>\n",
       "    </tr>\n",
       "    <tr>\n",
       "      <th>144840</th>\n",
       "      <td>2019-01-07</td>\n",
       "      <td>2018-12-01</td>\n",
       "      <td>2330</td>\n",
       "      <td>213.0</td>\n",
       "      <td>0.0</td>\n",
       "      <td>2.3754</td>\n",
       "      <td>NaN</td>\n",
       "    </tr>\n",
       "    <tr>\n",
       "      <th>144841</th>\n",
       "      <td>2019-01-08</td>\n",
       "      <td>2018-12-01</td>\n",
       "      <td>2330</td>\n",
       "      <td>211.0</td>\n",
       "      <td>0.0</td>\n",
       "      <td>-0.9434</td>\n",
       "      <td>NaN</td>\n",
       "    </tr>\n",
       "    <tr>\n",
       "      <th>144842</th>\n",
       "      <td>2019-01-09</td>\n",
       "      <td>2018-12-01</td>\n",
       "      <td>2330</td>\n",
       "      <td>215.5</td>\n",
       "      <td>0.0</td>\n",
       "      <td>2.1103</td>\n",
       "      <td>NaN</td>\n",
       "    </tr>\n",
       "    <tr>\n",
       "      <th>...</th>\n",
       "      <td>...</td>\n",
       "      <td>...</td>\n",
       "      <td>...</td>\n",
       "      <td>...</td>\n",
       "      <td>...</td>\n",
       "      <td>...</td>\n",
       "      <td>...</td>\n",
       "    </tr>\n",
       "    <tr>\n",
       "      <th>145074</th>\n",
       "      <td>2019-12-25</td>\n",
       "      <td>2019-09-01</td>\n",
       "      <td>2330</td>\n",
       "      <td>333.0</td>\n",
       "      <td>101717149.0</td>\n",
       "      <td>0.3008</td>\n",
       "      <td>NaN</td>\n",
       "    </tr>\n",
       "    <tr>\n",
       "      <th>145075</th>\n",
       "      <td>2019-12-26</td>\n",
       "      <td>2019-09-01</td>\n",
       "      <td>2330</td>\n",
       "      <td>333.0</td>\n",
       "      <td>101717149.0</td>\n",
       "      <td>0.0000</td>\n",
       "      <td>NaN</td>\n",
       "    </tr>\n",
       "    <tr>\n",
       "      <th>145076</th>\n",
       "      <td>2019-12-27</td>\n",
       "      <td>2019-09-01</td>\n",
       "      <td>2330</td>\n",
       "      <td>338.0</td>\n",
       "      <td>101717149.0</td>\n",
       "      <td>1.4903</td>\n",
       "      <td>NaN</td>\n",
       "    </tr>\n",
       "    <tr>\n",
       "      <th>145077</th>\n",
       "      <td>2019-12-30</td>\n",
       "      <td>2019-09-01</td>\n",
       "      <td>2330</td>\n",
       "      <td>334.5</td>\n",
       "      <td>101717149.0</td>\n",
       "      <td>-1.0409</td>\n",
       "      <td>NaN</td>\n",
       "    </tr>\n",
       "    <tr>\n",
       "      <th>145078</th>\n",
       "      <td>2019-12-31</td>\n",
       "      <td>2019-09-01</td>\n",
       "      <td>2330</td>\n",
       "      <td>331.0</td>\n",
       "      <td>101717149.0</td>\n",
       "      <td>-1.0519</td>\n",
       "      <td>NaN</td>\n",
       "    </tr>\n",
       "  </tbody>\n",
       "</table>\n",
       "<p>241 rows × 7 columns</p>\n",
       "</div>"
      ],
      "text/plain": [
       "            zdate      mdate  coid  收盤價(元)      常續性稅後淨利  報酬率-Ln  單月營收(千元)\n",
       "144838 2019-01-03 2018-12-01  2330   215.5          0.0 -1.8391       NaN\n",
       "144839 2019-01-04 2018-12-01  2330   208.0          0.0 -3.5423       NaN\n",
       "144840 2019-01-07 2018-12-01  2330   213.0          0.0  2.3754       NaN\n",
       "144841 2019-01-08 2018-12-01  2330   211.0          0.0 -0.9434       NaN\n",
       "144842 2019-01-09 2018-12-01  2330   215.5          0.0  2.1103       NaN\n",
       "...           ...        ...   ...     ...          ...     ...       ...\n",
       "145074 2019-12-25 2019-09-01  2330   333.0  101717149.0  0.3008       NaN\n",
       "145075 2019-12-26 2019-09-01  2330   333.0  101717149.0  0.0000       NaN\n",
       "145076 2019-12-27 2019-09-01  2330   338.0  101717149.0  1.4903       NaN\n",
       "145077 2019-12-30 2019-09-01  2330   334.5  101717149.0 -1.0409       NaN\n",
       "145078 2019-12-31 2019-09-01  2330   331.0  101717149.0 -1.0519       NaN\n",
       "\n",
       "[241 rows x 7 columns]"
      ]
     },
     "execution_count": 5,
     "metadata": {},
     "output_type": "execute_result"
    }
   ],
   "source": [
    "# 使用query_data函式，此函式可自動判斷新增查詢\n",
    "# 把window改成更大的值，或改base_date，也只會查詢異動，不會整個重新查\n",
    "# 以column_name指定要查詢的資料欄位，會自動按照key的權限去查可以用的table來拼湊\n",
    "data_name = ['常續性稅後淨利','收盤價(元)','報酬率-Ln','單月營收(千元)']\n",
    "data = tejtool.query_data(base_date='2019-12-31',window='12m',column_names=data_name)\n",
    "data[data['coid']=='2330']"
   ]
  },
  {
   "cell_type": "code",
   "execution_count": 21,
   "metadata": {},
   "outputs": [
    {
     "name": "stdout",
     "output_type": "stream",
     "text": [
      "2019-08-15\n",
      "[numpy.datetime64('2019-08-15'), numpy.datetime64('2019-08-16')]\n"
     ]
    }
   ],
   "source": [
    "# 使用get_data來取得特定基準日(base_date)時可觀察到的資料\n",
    "# 指定欄位、window(資料長度)\n",
    "data = tejtool.get_data(base_date='2019-08-16',window='5d',column_names=['常續性稅後淨利','收盤價(元)','報酬率-Ln','單月營收(千元)'])"
   ]
  },
  {
   "cell_type": "code",
   "execution_count": 22,
   "metadata": {
    "collapsed": true
   },
   "outputs": [],
   "source": [
    "# 計算益本比，因為打算用這個來作分類\n",
    "data['EP'] = data['常續性稅後淨利']/data['收盤價(元)']"
   ]
  },
  {
   "cell_type": "code",
   "execution_count": 23,
   "metadata": {},
   "outputs": [
    {
     "data": {
      "text/html": [
       "<div>\n",
       "<style scoped>\n",
       "    .dataframe tbody tr th:only-of-type {\n",
       "        vertical-align: middle;\n",
       "    }\n",
       "\n",
       "    .dataframe tbody tr th {\n",
       "        vertical-align: top;\n",
       "    }\n",
       "\n",
       "    .dataframe thead th {\n",
       "        text-align: right;\n",
       "    }\n",
       "</style>\n",
       "<table border=\"1\" class=\"dataframe\">\n",
       "  <thead>\n",
       "    <tr style=\"text-align: right;\">\n",
       "      <th></th>\n",
       "      <th>收盤價(元)</th>\n",
       "      <th>單月營收(千元)</th>\n",
       "      <th>常續性稅後淨利</th>\n",
       "      <th>報酬率-Ln</th>\n",
       "      <th>EP</th>\n",
       "    </tr>\n",
       "  </thead>\n",
       "  <tbody>\n",
       "    <tr>\n",
       "      <th>count</th>\n",
       "      <td>4284.000000</td>\n",
       "      <td>4.284000e+03</td>\n",
       "      <td>4.284000e+03</td>\n",
       "      <td>4284.000000</td>\n",
       "      <td>4284.000000</td>\n",
       "    </tr>\n",
       "    <tr>\n",
       "      <th>mean</th>\n",
       "      <td>51.100644</td>\n",
       "      <td>3.112182e+06</td>\n",
       "      <td>4.768368e+05</td>\n",
       "      <td>0.005072</td>\n",
       "      <td>10179.833156</td>\n",
       "    </tr>\n",
       "    <tr>\n",
       "      <th>std</th>\n",
       "      <td>144.215484</td>\n",
       "      <td>1.600786e+07</td>\n",
       "      <td>2.614455e+06</td>\n",
       "      <td>1.921126</td>\n",
       "      <td>58226.941597</td>\n",
       "    </tr>\n",
       "    <tr>\n",
       "      <th>min</th>\n",
       "      <td>0.000000</td>\n",
       "      <td>-5.218000e+03</td>\n",
       "      <td>-4.902445e+06</td>\n",
       "      <td>-10.536100</td>\n",
       "      <td>-779259.868421</td>\n",
       "    </tr>\n",
       "    <tr>\n",
       "      <th>25%</th>\n",
       "      <td>14.700000</td>\n",
       "      <td>1.816080e+05</td>\n",
       "      <td>0.000000e+00</td>\n",
       "      <td>-0.917625</td>\n",
       "      <td>0.000000</td>\n",
       "    </tr>\n",
       "    <tr>\n",
       "      <th>50%</th>\n",
       "      <td>26.175000</td>\n",
       "      <td>4.616320e+05</td>\n",
       "      <td>6.389850e+04</td>\n",
       "      <td>0.000000</td>\n",
       "      <td>1769.589905</td>\n",
       "    </tr>\n",
       "    <tr>\n",
       "      <th>75%</th>\n",
       "      <td>48.837500</td>\n",
       "      <td>1.389523e+06</td>\n",
       "      <td>2.341880e+05</td>\n",
       "      <td>0.727725</td>\n",
       "      <td>5438.687034</td>\n",
       "    </tr>\n",
       "    <tr>\n",
       "      <th>max</th>\n",
       "      <td>3855.000000</td>\n",
       "      <td>3.980121e+08</td>\n",
       "      <td>6.640827e+07</td>\n",
       "      <td>9.531000</td>\n",
       "      <td>628547.619048</td>\n",
       "    </tr>\n",
       "  </tbody>\n",
       "</table>\n",
       "</div>"
      ],
      "text/plain": [
       "            收盤價(元)      單月營收(千元)       常續性稅後淨利       報酬率-Ln             EP\n",
       "count  4284.000000  4.284000e+03  4.284000e+03  4284.000000    4284.000000\n",
       "mean     51.100644  3.112182e+06  4.768368e+05     0.005072   10179.833156\n",
       "std     144.215484  1.600786e+07  2.614455e+06     1.921126   58226.941597\n",
       "min       0.000000 -5.218000e+03 -4.902445e+06   -10.536100 -779259.868421\n",
       "25%      14.700000  1.816080e+05  0.000000e+00    -0.917625       0.000000\n",
       "50%      26.175000  4.616320e+05  6.389850e+04     0.000000    1769.589905\n",
       "75%      48.837500  1.389523e+06  2.341880e+05     0.727725    5438.687034\n",
       "max    3855.000000  3.980121e+08  6.640827e+07     9.531000  628547.619048"
      ]
     },
     "execution_count": 23,
     "metadata": {},
     "output_type": "execute_result"
    }
   ],
   "source": [
    "# 因為涉及除法，會有無限大的問題，所以要作處理\n",
    "data = data.dropna().replace([numpy.inf, -numpy.inf], numpy.nan).fillna(0)\n",
    "data.describe()"
   ]
  },
  {
   "cell_type": "code",
   "execution_count": 28,
   "metadata": {},
   "outputs": [
    {
     "data": {
      "text/plain": [
       "array([[ 1.04899058e+02,  0.00000000e+00],\n",
       "       [ 4.31335150e+01, -1.21870000e+00],\n",
       "       [ 4.36088154e+01, -1.09590000e+00],\n",
       "       ...,\n",
       "       [ 1.96627624e+05,  2.77980000e+00],\n",
       "       [ 1.98179947e+05, -7.86400000e-01],\n",
       "       [ 1.98441054e+05, -7.86400000e-01]])"
      ]
     },
     "execution_count": 28,
     "metadata": {},
     "output_type": "execute_result"
    }
   ],
   "source": [
    "data[['EP','報酬率-Ln']].values"
   ]
  },
  {
   "cell_type": "code",
   "execution_count": 24,
   "metadata": {
    "collapsed": true
   },
   "outputs": [],
   "source": [
    "# 使用sklearn的資料標準化套件產生配適用樣本X\n",
    "from sklearn.preprocessing import StandardScaler\n",
    "X = data[['EP','報酬率-Ln']].values\n",
    "X = StandardScaler().fit_transform(X)"
   ]
  },
  {
   "cell_type": "code",
   "execution_count": 25,
   "metadata": {},
   "outputs": [
    {
     "data": {
      "image/png": "[encoded data removed]",
      "text/plain": [
       "<matplotlib.figure.Figure at 0x251784a8>"
      ]
     },
     "metadata": {},
     "output_type": "display_data"
    }
   ],
   "source": [
    "# 嘗試以DBSCAN來做資料分類，直接複製sklearn的範例程式\n",
    "from sklearn.cluster import DBSCAN\n",
    "db = DBSCAN(eps=0.3, min_samples=5).fit(X)\n",
    "core_samples_mask = numpy.zeros_like(db.labels_, dtype=bool)\n",
    "core_samples_mask[db.core_sample_indices_] = True\n",
    "labels = db.labels_\n",
    "# Number of clusters in labels, ignoring noise if present.\n",
    "n_clusters_ = len(set(labels)) - (1 if -1 in labels else 0)\n",
    "n_noise_ = list(labels).count(-1)\n",
    "import matplotlib.pyplot as plt\n",
    "\n",
    "# Black removed and is used for noise instead.\n",
    "unique_labels = set(labels)\n",
    "colors = [plt.cm.Spectral(each)\n",
    "          for each in numpy.linspace(0, 1, len(unique_labels))]\n",
    "for k, col in zip(unique_labels, colors):\n",
    "    if k == -1:\n",
    "        # Black used for noise.\n",
    "        col = [0, 0, 0, 1]\n",
    "\n",
    "    class_member_mask = (labels == k)\n",
    "\n",
    "    xy = X[class_member_mask & core_samples_mask]\n",
    "    plt.plot(xy[:, 0], xy[:, 1], 'o', markerfacecolor=tuple(col),\n",
    "             markeredgecolor='k', markersize=14)\n",
    "\n",
    "    xy = X[class_member_mask & ~core_samples_mask]\n",
    "    plt.plot(xy[:, 0], xy[:, 1], 'o', markerfacecolor=tuple(col),\n",
    "             markeredgecolor='k', markersize=6)\n",
    "\n",
    "plt.title('Estimated number of clusters: %d' % n_clusters_)\n",
    "plt.show()"
   ]
  },
  {
   "cell_type": "code",
   "execution_count": null,
   "metadata": {
    "collapsed": true
   },
   "outputs": [],
   "source": []
  }
 ],
 "metadata": {
  "kernelspec": {
   "display_name": "Python 3",
   "language": "python",
   "name": "python3"
  },
  "language_info": {
   "codemirror_mode": {
    "name": "ipython",
    "version": 3
   },
   "file_extension": ".py",
   "mimetype": "text/x-python",
   "name": "python",
   "nbconvert_exporter": "python",
   "pygments_lexer": "ipython3",
   "version": "3.6.3"
  }
 },
 "nbformat": 4,
 "nbformat_minor": 2
}
