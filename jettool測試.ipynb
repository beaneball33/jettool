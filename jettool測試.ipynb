{
 "cells": [
  {
   "cell_type": "code",
   "execution_count": 1,
   "metadata": {
    "scrolled": true
   },
   "outputs": [],
   "source": [
    "import jettool\n",
    "import pandas\n",
    "import numpy\n",
    "import requests\n",
    "import json\n",
    "#import tejapi\n",
    "#tejapi.ApiConfig.api_key =\"GDEy0mWAGqnI3EemCREGREZMcEVbnF\""
   ]
  },
  {
   "cell_type": "markdown",
   "metadata": {},
   "source": [
    "# 初始化"
   ]
  },
  {
   "cell_type": "code",
   "execution_count": 2,
   "metadata": {},
   "outputs": [
    {
     "name": "stdout",
     "output_type": "stream",
     "text": [
      "['使用者名稱：趙育祥_外包(ZYX)', '使用權限日期：2019-08-29/2020-12-31', '日連線次數狀態：354/100000', '日查詢資料量狀態：2106149/10000000', '月查 詢資料量狀態：3302750/9223372036854775807']\n"
     ]
    }
   ],
   "source": [
    "# 初始化物件，可同時set Key\n",
    "tejtool = jettool.jet.engine(api_key=\"6CSAoCCL7E2sgmPaSTTNGo2Y1eB0Dg\")\n",
    "#tejtool.load_data()\n",
    "# 設定keyID，會自動查詢需要的資料表索引構造\n",
    "#tejtool.set_apikey(\"GDEy0mWAGqnI3EemCREGREZMcEVbnF\")"
   ]
  },
  {
   "cell_type": "markdown",
   "metadata": {},
   "source": [
    "# 資料結構資訊"
   ]
  },
  {
   "cell_type": "code",
   "execution_count": 3,
   "metadata": {},
   "outputs": [
    {
     "data": {
      "text/plain": [
       "{'subId': 14,\n",
       " 'subName': '基本資料',\n",
       " 'description': '公司基本資料',\n",
       " 'ordinal': 1,\n",
       " 'tableMap': [{'tableId': 'TWN/AIND', 'dbCode': 'TWN', 'icon': 'twn.png'},\n",
       "  {'tableId': 'CHN/CBAS', 'dbCode': 'CHN', 'icon': 'chn.png'},\n",
       "  {'tableId': 'HKG/HIND', 'dbCode': 'HKG', 'icon': 'hkg.png'},\n",
       "  {'tableId': 'JPN/JIND', 'dbCode': 'JPN', 'icon': 'jpn.png'},\n",
       "  {'tableId': 'KOR/KIND', 'dbCode': 'KOR', 'icon': 'kor.png'}]}"
      ]
     },
     "execution_count": 3,
     "metadata": {},
     "output_type": "execute_result"
    }
   ],
   "source": [
    "# 尋找某個table的mapping資料次屬性，可以用來知道你查的table，在其他國家是什麼table\n",
    "tejtool.dbapi.get_table_mapping(market='TWN',id='AIND')"
   ]
  },
  {
   "cell_type": "code",
   "execution_count": 4,
   "metadata": {},
   "outputs": [
    {
     "data": {
      "text/plain": [
       "['市值',\n",
       " '淨值市價比',\n",
       " '益本比',\n",
       " '股利殖利率',\n",
       " '動能(T-12~T-2)',\n",
       " '短期反轉(T-1)',\n",
       " '長期反轉(T-60~T-13)',\n",
       " '盈利能力(ROE)',\n",
       " '投資(資產成長率)',\n",
       " '違約距離(MERTON)',\n",
       " '違約距離(KMV)',\n",
       " '流動性',\n",
       " '個別風險',\n",
       " '產業集中度',\n",
       " '錯誤定價',\n",
       " '偏態係數',\n",
       " '研發密度']"
      ]
     },
     "execution_count": 4,
     "metadata": {},
     "output_type": "execute_result"
    }
   ],
   "source": [
    "# 取得該table除了PK以外的欄位名稱，用來簡化查詢步驟，無腦一口氣整個表匯入\n",
    "tejtool.dbapi.get_table_columns(table_name='TWN/AFF_RAW')"
   ]
  },
  {
   "cell_type": "code",
   "execution_count": 5,
   "metadata": {},
   "outputs": [
    {
     "data": {
      "text/plain": [
       "0       常續性稅後淨利\n",
       "1    近四季常續性每股盈餘\n",
       "Name: cname, dtype: object"
      ]
     },
     "execution_count": 5,
     "metadata": {},
     "output_type": "execute_result"
    }
   ],
   "source": [
    "# 用模糊字串來查詢確切的會計科目名稱\n",
    "tejtool.find_account_name('常續性')"
   ]
  },
  {
   "cell_type": "code",
   "execution_count": 6,
   "metadata": {},
   "outputs": [
    {
     "data": {
      "text/plain": [
       "(['SB01', 'SB21'], ['台灣加權股價指數', '美國紐約綜合股價指數'])"
      ]
     },
     "execution_count": 6,
     "metadata": {},
     "output_type": "execute_result"
    }
   ],
   "source": [
    "# 使用此函式可查詢總經資料表內的名稱與代碼的對照\n",
    "tejtool.compare_code_name(table_name='GLOBAL/GIDX',query_columns=['台灣加權股價指數','美國紐約綜合股價指數'])"
   ]
  },
  {
   "cell_type": "markdown",
   "metadata": {},
   "source": [
    "# 整合查詢器\n",
    "### 一次查詢全部整合完成\n",
    "#### 一個名稱、可到不同資料表查詢相對應的資料\n",
    "#### 需正確定義名稱的精確差異"
   ]
  },
  {
   "cell_type": "code",
   "execution_count": 7,
   "metadata": {
    "scrolled": true
   },
   "outputs": [
    {
     "name": "stdout",
     "output_type": "stream",
     "text": [
      "資料起始日：2019-09-30\n",
      "查詢財報資料\n",
      "成功查詢會計家數:1668\n",
      "最大財報資料日期:2018-06-01\n",
      "APRCD 上市(櫃)未調整股價(日)\n",
      "ASALE 上市(櫃)月營收盈餘\n",
      "查詢日資料 最大資料日期:2019-12-31\n",
      "上市(櫃)未調整股價(日) 重新查詢:True\n",
      "上市(櫃)月營收盈餘 重新查詢:True\n",
      "2019-12-30\n"
     ]
    },
    {
     "data": {
      "text/html": [
       "<div>\n",
       "<style scoped>\n",
       "    .dataframe tbody tr th:only-of-type {\n",
       "        vertical-align: middle;\n",
       "    }\n",
       "\n",
       "    .dataframe tbody tr th {\n",
       "        vertical-align: top;\n",
       "    }\n",
       "\n",
       "    .dataframe thead th {\n",
       "        text-align: right;\n",
       "    }\n",
       "</style>\n",
       "<table border=\"1\" class=\"dataframe\">\n",
       "  <thead>\n",
       "    <tr style=\"text-align: right;\">\n",
       "      <th></th>\n",
       "      <th>zdate</th>\n",
       "      <th>coid</th>\n",
       "      <th>常續性稅後淨利</th>\n",
       "      <th>報酬率-Ln</th>\n",
       "      <th>收盤價(元)</th>\n",
       "      <th>流通在外股數(千股)</th>\n",
       "      <th>單月營收(千元)</th>\n",
       "      <th>開盤價(元)</th>\n",
       "      <th>mdate</th>\n",
       "    </tr>\n",
       "  </thead>\n",
       "  <tbody>\n",
       "    <tr>\n",
       "      <th>38116</th>\n",
       "      <td>2019-10-02</td>\n",
       "      <td>2330</td>\n",
       "      <td>0.0</td>\n",
       "      <td>-0.1787</td>\n",
       "      <td>279.5</td>\n",
       "      <td>25930380.0</td>\n",
       "      <td>1299155.0</td>\n",
       "      <td>280.0</td>\n",
       "      <td>2019-09-01</td>\n",
       "    </tr>\n",
       "    <tr>\n",
       "      <th>38117</th>\n",
       "      <td>2019-10-03</td>\n",
       "      <td>2330</td>\n",
       "      <td>0.0</td>\n",
       "      <td>-1.0791</td>\n",
       "      <td>276.5</td>\n",
       "      <td>25930380.0</td>\n",
       "      <td>1299155.0</td>\n",
       "      <td>274.0</td>\n",
       "      <td>2019-09-01</td>\n",
       "    </tr>\n",
       "    <tr>\n",
       "      <th>38118</th>\n",
       "      <td>2019-10-04</td>\n",
       "      <td>2330</td>\n",
       "      <td>0.0</td>\n",
       "      <td>0.0000</td>\n",
       "      <td>276.5</td>\n",
       "      <td>25930380.0</td>\n",
       "      <td>1299155.0</td>\n",
       "      <td>279.5</td>\n",
       "      <td>2019-09-01</td>\n",
       "    </tr>\n",
       "    <tr>\n",
       "      <th>38119</th>\n",
       "      <td>2019-10-07</td>\n",
       "      <td>2330</td>\n",
       "      <td>0.0</td>\n",
       "      <td>0.5410</td>\n",
       "      <td>278.0</td>\n",
       "      <td>25930380.0</td>\n",
       "      <td>1299155.0</td>\n",
       "      <td>279.0</td>\n",
       "      <td>2019-09-01</td>\n",
       "    </tr>\n",
       "    <tr>\n",
       "      <th>38120</th>\n",
       "      <td>2019-10-08</td>\n",
       "      <td>2330</td>\n",
       "      <td>0.0</td>\n",
       "      <td>3.0117</td>\n",
       "      <td>286.5</td>\n",
       "      <td>25930380.0</td>\n",
       "      <td>1299155.0</td>\n",
       "      <td>283.5</td>\n",
       "      <td>2019-09-01</td>\n",
       "    </tr>\n",
       "    <tr>\n",
       "      <th>...</th>\n",
       "      <td>...</td>\n",
       "      <td>...</td>\n",
       "      <td>...</td>\n",
       "      <td>...</td>\n",
       "      <td>...</td>\n",
       "      <td>...</td>\n",
       "      <td>...</td>\n",
       "      <td>...</td>\n",
       "      <td>...</td>\n",
       "    </tr>\n",
       "    <tr>\n",
       "      <th>38174</th>\n",
       "      <td>2019-12-25</td>\n",
       "      <td>2330</td>\n",
       "      <td>0.0</td>\n",
       "      <td>0.3008</td>\n",
       "      <td>333.0</td>\n",
       "      <td>25930380.0</td>\n",
       "      <td>107884396.0</td>\n",
       "      <td>332.0</td>\n",
       "      <td>2019-09-01</td>\n",
       "    </tr>\n",
       "    <tr>\n",
       "      <th>38175</th>\n",
       "      <td>2019-12-26</td>\n",
       "      <td>2330</td>\n",
       "      <td>0.0</td>\n",
       "      <td>0.0000</td>\n",
       "      <td>333.0</td>\n",
       "      <td>25930380.0</td>\n",
       "      <td>107884396.0</td>\n",
       "      <td>333.0</td>\n",
       "      <td>2019-09-01</td>\n",
       "    </tr>\n",
       "    <tr>\n",
       "      <th>38176</th>\n",
       "      <td>2019-12-27</td>\n",
       "      <td>2330</td>\n",
       "      <td>0.0</td>\n",
       "      <td>1.4903</td>\n",
       "      <td>338.0</td>\n",
       "      <td>25930380.0</td>\n",
       "      <td>107884396.0</td>\n",
       "      <td>335.0</td>\n",
       "      <td>2019-09-01</td>\n",
       "    </tr>\n",
       "    <tr>\n",
       "      <th>38177</th>\n",
       "      <td>2019-12-30</td>\n",
       "      <td>2330</td>\n",
       "      <td>0.0</td>\n",
       "      <td>-1.0409</td>\n",
       "      <td>334.5</td>\n",
       "      <td>25930380.0</td>\n",
       "      <td>107884396.0</td>\n",
       "      <td>338.0</td>\n",
       "      <td>2019-09-01</td>\n",
       "    </tr>\n",
       "    <tr>\n",
       "      <th>38178</th>\n",
       "      <td>2019-12-31</td>\n",
       "      <td>2330</td>\n",
       "      <td>0.0</td>\n",
       "      <td>-1.0519</td>\n",
       "      <td>331.0</td>\n",
       "      <td>25930380.0</td>\n",
       "      <td>107884396.0</td>\n",
       "      <td>331.0</td>\n",
       "      <td>2019-09-01</td>\n",
       "    </tr>\n",
       "  </tbody>\n",
       "</table>\n",
       "<p>63 rows × 9 columns</p>\n",
       "</div>"
      ],
      "text/plain": [
       "           zdate  coid  常續性稅後淨利  報酬率-Ln  收盤價(元)  流通在外股數(千股)     單月營收(千元)  \\\n",
       "38116 2019-10-02  2330      0.0 -0.1787   279.5  25930380.0    1299155.0   \n",
       "38117 2019-10-03  2330      0.0 -1.0791   276.5  25930380.0    1299155.0   \n",
       "38118 2019-10-04  2330      0.0  0.0000   276.5  25930380.0    1299155.0   \n",
       "38119 2019-10-07  2330      0.0  0.5410   278.0  25930380.0    1299155.0   \n",
       "38120 2019-10-08  2330      0.0  3.0117   286.5  25930380.0    1299155.0   \n",
       "...          ...   ...      ...     ...     ...         ...          ...   \n",
       "38174 2019-12-25  2330      0.0  0.3008   333.0  25930380.0  107884396.0   \n",
       "38175 2019-12-26  2330      0.0  0.0000   333.0  25930380.0  107884396.0   \n",
       "38176 2019-12-27  2330      0.0  1.4903   338.0  25930380.0  107884396.0   \n",
       "38177 2019-12-30  2330      0.0 -1.0409   334.5  25930380.0  107884396.0   \n",
       "38178 2019-12-31  2330      0.0 -1.0519   331.0  25930380.0  107884396.0   \n",
       "\n",
       "       開盤價(元)      mdate  \n",
       "38116   280.0 2019-09-01  \n",
       "38117   274.0 2019-09-01  \n",
       "38118   279.5 2019-09-01  \n",
       "38119   279.0 2019-09-01  \n",
       "38120   283.5 2019-09-01  \n",
       "...       ...        ...  \n",
       "38174   332.0 2019-09-01  \n",
       "38175   333.0 2019-09-01  \n",
       "38176   335.0 2019-09-01  \n",
       "38177   338.0 2019-09-01  \n",
       "38178   331.0 2019-09-01  \n",
       "\n",
       "[63 rows x 9 columns]"
      ]
     },
     "execution_count": 7,
     "metadata": {},
     "output_type": "execute_result"
    }
   ],
   "source": [
    "#data_name = ['常續性稅後淨利','收盤價(元)','報酬率-Ln','個別風險','長期反轉(T-60~T-13)','董監持股%','大股東持股(TSE)%','經理人持股%','單月營收(千元)']\n",
    "#fama_name = tejtool.get_table_columns('TWN/AFF_RAW')\n",
    "data_name = ['常續性稅後淨利','流通在外股數(千股)',{'id': 'APRCD', 'columns_cname':['開盤價(元)','收盤價(元)']},'報酬率-Ln','單月營收(千元)']\n",
    "data_name = data_name \n",
    "data = tejtool.query_data(base_date='2019-12-31',window='3m',column_names=data_name)\n",
    "#tejtool.save_data()\n",
    "data[data['coid']=='2330']"
   ]
  },
  {
   "cell_type": "code",
   "execution_count": null,
   "metadata": {
    "collapsed": true
   },
   "outputs": [],
   "source": [
    "# 將查詢結果保存，可以避免重複查詢\n",
    "import dill\n",
    "with open('tejtool.pkl','wb') as f:\n",
    "    dill.dump(tejtool,f )\n",
    "    # tejtool = dill.load(f) #此列為取出用"
   ]
  },
  {
   "cell_type": "code",
   "execution_count": null,
   "metadata": {},
   "outputs": [],
   "source": [
    "data = tejtool.get_data(base_date='2019-10-16',window='3d',column_names=['常續性稅後淨利','收盤價(元)','報酬率-Ln','單月營收(千元)'])\n",
    "data.head(5)"
   ]
  },
  {
   "cell_type": "code",
   "execution_count": null,
   "metadata": {
    "collapsed": true
   },
   "outputs": [],
   "source": [
    "# 用來取得 某個日期以前最接近的交易日\n",
    "tejtool.get_zdate('2019-08-16')"
   ]
  },
  {
   "cell_type": "code",
   "execution_count": null,
   "metadata": {
    "collapsed": true
   },
   "outputs": [],
   "source": [
    "tejtool.make_famamacbethmodel(col_name='報酬率-Ln',check_index=['市值', '淨值市價比', '益本比', '股利殖利率', '動能(T-12~T-2)', '短期反轉(T-1)', '長期反轉(T-60~T-13)', '盈利能力(ROE)', '投資(資產成長率)', '違約距離(MERTON)', '違約距離(KMV)', '流動性', '個別風險', '產業集中度', '錯誤定價', '偏態係數', '研發密度'],window ='12m',alpha_rate = 5)"
   ]
  },
  {
   "cell_type": "markdown",
   "metadata": {},
   "source": [
    "# 回測工具，與quantjet網站同一套"
   ]
  },
  {
   "cell_type": "code",
   "execution_count": null,
   "metadata": {
    "collapsed": true
   },
   "outputs": [],
   "source": [
    "# 定義計算式，然後使用back_test函式即可回測，目前欠缺自動查詢函式內需要資料欄位(即quantjet網站js檔的功能)的程序\n",
    "\n",
    "def calculate():\n",
    "    tejtool.data['EP'] = tejtool.data['常續性稅後淨利']/tejtool.data['收盤價(元)']\n",
    "    tejtool.data['常續性稅後淨利檢查'] = tejtool.check_above('EP',0,window='1d')\n",
    "def evaluate():\n",
    "    tejtool.data['購入'] = tejtool.check_condition(conditions=['常續性稅後淨利檢查'])\n",
    "    tejtool.data['unit'] = tejtool.equal_pv()\n",
    "\n",
    "# 另外必須輸入用來當作市價與報酬率的欄位名稱，如:roib_name='報酬率-Ln',closed_name ='收盤價(元)'\n",
    "# 若不輸入，則使用此預設值\n",
    "tejtool.back_test(back_interval='2019-10-31',cash=1000000000,calculate=calculate,evaluate=evaluate)"
   ]
  },
  {
   "cell_type": "code",
   "execution_count": null,
   "metadata": {
    "collapsed": true
   },
   "outputs": [],
   "source": [
    "def calculate(tejtool):\n",
    "    tejtool.data['報酬率']=tejtool.calculate_growthrate(check_index='收盤價(元)',window='1m',fix_date='01',method='geometric')\n",
    "    tejtool.data['famamodel']=tejtool.make_famamacbethmodel(col_name='報酬率-Ln',check_index=['市值', '淨值市價比', '益本比', '股利殖利率', '動能(T-12~T-2)', '短期反轉(T-1)', '長期反轉(T-60~T-13)', '盈利能力(ROE)', '投資(資產成長率)', '違約距離(MERTON)', '違約距離(KMV)', '流動性', '個別風險', '產業集中度', '錯誤定價', '偏態係數', '研發密度'],window ='24m',alpha_rate = 5,reset_list = '01')\n",
    "    tejtool.data['famascore']=tejtool.run_famascore(rank_above=100,class_count = 10) \n",
    "    tejtool.data['fama分組當月報酬']=tejtool.calculate_crossing(check_index='報酬率',window='1d',weight='市值',col_kind='mean')\n",
    "def evaluate(tejtool):\n",
    "    tejtool.data['fama分組判斷'] =tejtool.abnormal_selection(check_index='fama分組當月報酬',group_name='famascore',window='12m',keep='first')\n",
    "    tejtool.data['購入']=tejtool.check_condition(conditions=['fama分組判斷'],check_type='and') \n",
    "    tejtool.data['unit'] = tejtool.equal_pv()\n",
    "tejtool.back_test(back_interval='2018-12-31',cash=1000000000,calculate=calculate,evaluate=evaluate)"
   ]
  },
  {
   "cell_type": "code",
   "execution_count": null,
   "metadata": {
    "collapsed": true
   },
   "outputs": [],
   "source": [
    "tejtool.data.loc[tejtool.data['coid']=='1603',['unit','roibNext','前期持股','收盤價(元)','報酬率-Ln','手續費']]"
   ]
  },
  {
   "cell_type": "code",
   "execution_count": null,
   "metadata": {
    "collapsed": true
   },
   "outputs": [],
   "source": [
    "tejtool.all_date_data[(tejtool.all_date_data['coid']=='1603')&(tejtool.all_date_data['zdate']>='2019-08-15')]"
   ]
  },
  {
   "cell_type": "code",
   "execution_count": null,
   "metadata": {
    "collapsed": true
   },
   "outputs": [],
   "source": []
  }
 ],
 "metadata": {
  "kernelspec": {
   "display_name": "Python 3",
   "language": "python",
   "name": "python3"
  },
  "language_info": {
   "codemirror_mode": {
    "name": "ipython",
    "version": 3
   },
   "file_extension": ".py",
   "mimetype": "text/x-python",
   "name": "python",
   "nbconvert_exporter": "python",
   "pygments_lexer": "ipython3",
   "version": "3.6.3"
  }
 },
 "nbformat": 4,
 "nbformat_minor": 2
}
