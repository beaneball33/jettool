{
 "cells": [
  {
   "cell_type": "code",
   "execution_count": 1,
   "metadata": {
    "collapsed": true
   },
   "outputs": [],
   "source": [
    "from jettool import tools\n",
    "import pandas\n",
    "import numpy"
   ]
  },
  {
   "cell_type": "markdown",
   "metadata": {},
   "source": [
    "# 初始化"
   ]
  },
  {
   "cell_type": "code",
   "execution_count": 2,
   "metadata": {},
   "outputs": [
    {
     "name": "stdout",
     "output_type": "stream",
     "text": [
      "['使用者名稱：趙育祥(ZYX)', '使用權限日期：2018-01-01/2050-12-31', '日連線次數狀態：1963/100000', '日查詢資料量狀態：14152528/10000000', '月查 詢資料量狀態：58147149/9223372036854775807']\n"
     ]
    }
   ],
   "source": [
    "# 初始化物件，可同時set Key\n",
    "tejtool = tools.financial_tool(api_key=\"GDEy0mWAGqnI3EemCREGREZMcEVbnF\")\n",
    "#tejtool.load_data()\n",
    "# 設定keyID，會自動查詢需要的資料表索引構造\n",
    "#tejtool.set_apikey(\"GDEy0mWAGqnI3EemCREGREZMcEVbnF\")"
   ]
  },
  {
   "cell_type": "markdown",
   "metadata": {},
   "source": [
    "# 資料結構資訊"
   ]
  },
  {
   "cell_type": "code",
   "execution_count": null,
   "metadata": {
    "collapsed": true
   },
   "outputs": [],
   "source": [
    "# 尋找某個table的mapping資料次屬性，可以用來知道你查的table，在其他國家是什麼table\n",
    "tejtool.get_table_mapping(market='TWN',id='AIND')"
   ]
  },
  {
   "cell_type": "code",
   "execution_count": null,
   "metadata": {
    "collapsed": true
   },
   "outputs": [],
   "source": [
    "# 取得該table除了PK以外的欄位名稱，用來簡化查詢步驟，無腦一口氣整個表匯入\n",
    "tejtool.get_table_columns('TWN/AFF_RAW')"
   ]
  },
  {
   "cell_type": "code",
   "execution_count": null,
   "metadata": {
    "collapsed": true
   },
   "outputs": [],
   "source": [
    "# 用模糊字串來查詢確切的會計科目名稱\n",
    "tejtool.find_account_name('資產負債')"
   ]
  },
  {
   "cell_type": "markdown",
   "metadata": {},
   "source": [
    "# 整合查詢器\n",
    "### 一次查詢全部整合完成\n",
    "#### 一個名稱、可到不同資料表查詢相對應的資料\n",
    "#### 需正確定義名稱的精確差異"
   ]
  },
  {
   "cell_type": "markdown",
   "metadata": {},
   "source": [
    "#### unfixed bug \n",
    "\n",
    "pipeline\\method.py in cal_zdate(self, base_date, jump_length, jump_kind, fix_date, tradeday)   \n",
    "ValueError: Month out of range in datetime string \"2018-22-31\"  \n",
    "data = tejtool.query_data(base_date='2019-12-31',window='14m',column_names=data_name)"
   ]
  },
  {
   "cell_type": "code",
   "execution_count": 3,
   "metadata": {
    "scrolled": true
   },
   "outputs": [
    {
     "name": "stdout",
     "output_type": "stream",
     "text": [
      "資料起始日：2018-02-28\n",
      "self.basic_info=self.tejapi.get('TWN/AIND',opts={'columns':query_columns}, paginate=True).rename(index=str, columns=rename_columns)\n",
      "查詢財報資料\n",
      "成功查詢會計家數:2004\n",
      "最大財報資料日期:2019-12-01\n",
      "查詢日資料 最大資料日期:2019-12-31\n",
      "借券餘額 重新查詢:True\n",
      "self.tempdata=self.tejapi.get('TWN/ABORROW',coid=query_coid,mdate={'gte':mdate_down,'lte':mdate_up},opts={'sort':'mdate.desc','columns':query_columns}, paginate=True).rename(index=str, columns={'mdate':'zdate'})\n",
      "上市(櫃)調整股價(日)-除權息調整 重新查詢:True\n",
      "self.tempdata=self.tejapi.get('TWN/APRCD1',coid=query_coid,mdate={'gte':mdate_down,'lte':mdate_up},opts={'sort':'mdate.desc','columns':query_columns}, paginate=True).rename(index=str, columns={'mdate':'zdate'})\n",
      "上市(櫃)月營收盈餘 重新查詢:True\n",
      "self.tempdata=self.tejapi.get('TWN/ASALE',coid=query_coid,annd_s={'gte':mdate_down,'lte':mdate_up},opts={'sort':'annd_s.desc','columns':query_columns}, paginate=True).rename(index=str, columns={'annd_s':'zdate'})\n"
     ]
    },
    {
     "data": {
      "text/html": [
       "<div>\n",
       "<style scoped>\n",
       "    .dataframe tbody tr th:only-of-type {\n",
       "        vertical-align: middle;\n",
       "    }\n",
       "\n",
       "    .dataframe tbody tr th {\n",
       "        vertical-align: top;\n",
       "    }\n",
       "\n",
       "    .dataframe thead th {\n",
       "        text-align: right;\n",
       "    }\n",
       "</style>\n",
       "<table border=\"1\" class=\"dataframe\">\n",
       "  <thead>\n",
       "    <tr style=\"text-align: right;\">\n",
       "      <th></th>\n",
       "      <th>zdate</th>\n",
       "      <th>mdate</th>\n",
       "      <th>coid</th>\n",
       "      <th>常續性稅後淨利</th>\n",
       "      <th>單月營收(千元)</th>\n",
       "      <th>收盤價(元)</th>\n",
       "      <th>報酬率-Ln</th>\n",
       "    </tr>\n",
       "  </thead>\n",
       "  <tbody>\n",
       "    <tr>\n",
       "      <th>268517</th>\n",
       "      <td>2018-03-02</td>\n",
       "      <td>2018-03-01</td>\n",
       "      <td>2330</td>\n",
       "      <td>88929083.0</td>\n",
       "      <td>1299155.0</td>\n",
       "      <td>240.0</td>\n",
       "      <td>-1.2423</td>\n",
       "    </tr>\n",
       "    <tr>\n",
       "      <th>268518</th>\n",
       "      <td>2018-03-05</td>\n",
       "      <td>2018-03-01</td>\n",
       "      <td>2330</td>\n",
       "      <td>88929083.0</td>\n",
       "      <td>1299155.0</td>\n",
       "      <td>241.5</td>\n",
       "      <td>0.6231</td>\n",
       "    </tr>\n",
       "    <tr>\n",
       "      <th>268519</th>\n",
       "      <td>2018-03-06</td>\n",
       "      <td>2018-03-01</td>\n",
       "      <td>2330</td>\n",
       "      <td>88929083.0</td>\n",
       "      <td>1299155.0</td>\n",
       "      <td>250.0</td>\n",
       "      <td>3.4591</td>\n",
       "    </tr>\n",
       "    <tr>\n",
       "      <th>268520</th>\n",
       "      <td>2018-03-07</td>\n",
       "      <td>2018-03-01</td>\n",
       "      <td>2330</td>\n",
       "      <td>88929083.0</td>\n",
       "      <td>1299155.0</td>\n",
       "      <td>247.0</td>\n",
       "      <td>-1.2073</td>\n",
       "    </tr>\n",
       "    <tr>\n",
       "      <th>268521</th>\n",
       "      <td>2018-03-08</td>\n",
       "      <td>2018-03-01</td>\n",
       "      <td>2330</td>\n",
       "      <td>88929083.0</td>\n",
       "      <td>1299155.0</td>\n",
       "      <td>249.5</td>\n",
       "      <td>1.0071</td>\n",
       "    </tr>\n",
       "    <tr>\n",
       "      <th>...</th>\n",
       "      <td>...</td>\n",
       "      <td>...</td>\n",
       "      <td>...</td>\n",
       "      <td>...</td>\n",
       "      <td>...</td>\n",
       "      <td>...</td>\n",
       "      <td>...</td>\n",
       "    </tr>\n",
       "    <tr>\n",
       "      <th>268965</th>\n",
       "      <td>2019-12-25</td>\n",
       "      <td>2019-09-01</td>\n",
       "      <td>2330</td>\n",
       "      <td>101717149.0</td>\n",
       "      <td>107884396.0</td>\n",
       "      <td>333.0</td>\n",
       "      <td>0.3008</td>\n",
       "    </tr>\n",
       "    <tr>\n",
       "      <th>268966</th>\n",
       "      <td>2019-12-26</td>\n",
       "      <td>2019-09-01</td>\n",
       "      <td>2330</td>\n",
       "      <td>101717149.0</td>\n",
       "      <td>107884396.0</td>\n",
       "      <td>333.0</td>\n",
       "      <td>0.0000</td>\n",
       "    </tr>\n",
       "    <tr>\n",
       "      <th>268967</th>\n",
       "      <td>2019-12-27</td>\n",
       "      <td>2019-09-01</td>\n",
       "      <td>2330</td>\n",
       "      <td>101717149.0</td>\n",
       "      <td>107884396.0</td>\n",
       "      <td>338.0</td>\n",
       "      <td>1.4903</td>\n",
       "    </tr>\n",
       "    <tr>\n",
       "      <th>268968</th>\n",
       "      <td>2019-12-30</td>\n",
       "      <td>2019-09-01</td>\n",
       "      <td>2330</td>\n",
       "      <td>101717149.0</td>\n",
       "      <td>107884396.0</td>\n",
       "      <td>334.5</td>\n",
       "      <td>-1.0409</td>\n",
       "    </tr>\n",
       "    <tr>\n",
       "      <th>268969</th>\n",
       "      <td>2019-12-31</td>\n",
       "      <td>2019-09-01</td>\n",
       "      <td>2330</td>\n",
       "      <td>101717149.0</td>\n",
       "      <td>107884396.0</td>\n",
       "      <td>331.0</td>\n",
       "      <td>-1.0519</td>\n",
       "    </tr>\n",
       "  </tbody>\n",
       "</table>\n",
       "<p>453 rows × 7 columns</p>\n",
       "</div>"
      ],
      "text/plain": [
       "            zdate      mdate  coid      常續性稅後淨利     單月營收(千元)  收盤價(元)  報酬率-Ln\n",
       "268517 2018-03-02 2018-03-01  2330   88929083.0    1299155.0   240.0 -1.2423\n",
       "268518 2018-03-05 2018-03-01  2330   88929083.0    1299155.0   241.5  0.6231\n",
       "268519 2018-03-06 2018-03-01  2330   88929083.0    1299155.0   250.0  3.4591\n",
       "268520 2018-03-07 2018-03-01  2330   88929083.0    1299155.0   247.0 -1.2073\n",
       "268521 2018-03-08 2018-03-01  2330   88929083.0    1299155.0   249.5  1.0071\n",
       "...           ...        ...   ...          ...          ...     ...     ...\n",
       "268965 2019-12-25 2019-09-01  2330  101717149.0  107884396.0   333.0  0.3008\n",
       "268966 2019-12-26 2019-09-01  2330  101717149.0  107884396.0   333.0  0.0000\n",
       "268967 2019-12-27 2019-09-01  2330  101717149.0  107884396.0   338.0  1.4903\n",
       "268968 2019-12-30 2019-09-01  2330  101717149.0  107884396.0   334.5 -1.0409\n",
       "268969 2019-12-31 2019-09-01  2330  101717149.0  107884396.0   331.0 -1.0519\n",
       "\n",
       "[453 rows x 7 columns]"
      ]
     },
     "execution_count": 3,
     "metadata": {},
     "output_type": "execute_result"
    }
   ],
   "source": [
    "#data_name = ['常續性稅後淨利','收盤價(元)','報酬率-Ln','個別風險','長期反轉(T-60~T-13)','董監持股%','大股東持股(TSE)%','經理人持股%','單月營收(千元)']\n",
    "#fama_name = tejtool.get_table_columns('TWN/AFF_RAW')\n",
    "data_name = ['常續性稅後淨利','收盤價(元)','報酬率-Ln','單月營收(千元)']\n",
    "data_name = data_name \n",
    "data = tejtool.query_data(base_date='2019-12-31',window='22m',column_names=data_name)\n",
    "tejtool.save_data()\n",
    "data[data['coid']=='2330']"
   ]
  },
  {
   "cell_type": "code",
   "execution_count": null,
   "metadata": {},
   "outputs": [],
   "source": [
    "data = tejtool.get_data(base_date='2019-08-16',window='3d',column_names=['常續性稅後淨利','收盤價(元)','報酬率-Ln','單月營收(千元)'])"
   ]
  },
  {
   "cell_type": "code",
   "execution_count": null,
   "metadata": {},
   "outputs": [],
   "source": [
    "# 用來取得 某個日期以前最接近的交易日\n",
    "tejtool.get_zdate('2019-08-16')"
   ]
  },
  {
   "cell_type": "code",
   "execution_count": null,
   "metadata": {
    "collapsed": true
   },
   "outputs": [],
   "source": [
    "tejtool.make_famamacbethmodel(col_name='報酬率-Ln',check_index=['市值', '淨值市價比', '益本比', '股利殖利率', '動能(T-12~T-2)', '短期反轉(T-1)', '長期反轉(T-60~T-13)', '盈利能力(ROE)', '投資(資產成長率)', '違約距離(MERTON)', '違約距離(KMV)', '流動性', '個別風險', '產業集中度', '錯誤定價', '偏態係數', '研發密度'],window ='12m',alpha_rate = 5)"
   ]
  },
  {
   "cell_type": "markdown",
   "metadata": {},
   "source": [
    "# 回測工具，與quantjet網站同一套"
   ]
  },
  {
   "cell_type": "code",
   "execution_count": null,
   "metadata": {
    "collapsed": true
   },
   "outputs": [],
   "source": [
    "# 定義計算式，然後使用back_test函式即可回測，目前欠缺自動查詢函式內需要資料欄位(即quantjet網站js檔的功能)的程序\n",
    "\n",
    "def calculate():\n",
    "    tejtool.data['EP'] = tejtool.data['常續性稅後淨利']/tejtool.data['收盤價(元)']\n",
    "    tejtool.data['常續性稅後淨利檢查'] = tejtool.check_above('EP',0,window='1d')\n",
    "def evaluate():\n",
    "    tejtool.data['購入'] = tejtool.check_condition(conditions=['常續性稅後淨利檢查'])\n",
    "    tejtool.data['unit'] = tejtool.equal_pv()\n",
    "\n",
    "# 另外必須輸入用來當作市價與報酬率的欄位名稱，如:roib_name='報酬率-Ln',closed_name ='收盤價(元)'\n",
    "# 若不輸入，則使用此預設值\n",
    "tejtool.back_test(back_interval='2019-10-31',cash=1000000000,calculate=calculate,evaluate=evaluate)"
   ]
  },
  {
   "cell_type": "code",
   "execution_count": null,
   "metadata": {
    "collapsed": true
   },
   "outputs": [],
   "source": [
    "def calculate(tejtool):\n",
    "    tejtool.data['報酬率']=tejtool.calculate_growthrate(check_index='收盤價(元)',window='1m',fix_date='01',method='geometric')\n",
    "    tejtool.data['famamodel']=tejtool.make_famamacbethmodel(col_name='報酬率-Ln',check_index=['市值', '淨值市價比', '益本比', '股利殖利率', '動能(T-12~T-2)', '短期反轉(T-1)', '長期反轉(T-60~T-13)', '盈利能力(ROE)', '投資(資產成長率)', '違約距離(MERTON)', '違約距離(KMV)', '流動性', '個別風險', '產業集中度', '錯誤定價', '偏態係數', '研發密度'],window ='24m',alpha_rate = 5,reset_list = '01')\n",
    "    tejtool.data['famascore']=tejtool.run_famascore(rank_above=100,class_count = 10) \n",
    "    tejtool.data['fama分組當月報酬']=tejtool.calculate_crossing(check_index='報酬率',window='1d',weight='市值',col_kind='mean')\n",
    "def evaluate(tejtool):\n",
    "    tejtool.data['fama分組判斷'] =tejtool.abnormal_selection(check_index='fama分組當月報酬',group_name='famascore',window='12m',keep='first')\n",
    "    tejtool.data['購入']=tejtool.check_condition(conditions=['fama分組判斷'],check_type='and') \n",
    "    tejtool.data['unit'] = tejtool.equal_pv()\n",
    "tejtool.back_test(back_interval='2018-12-31',cash=1000000000,calculate=calculate,evaluate=evaluate)"
   ]
  },
  {
   "cell_type": "code",
   "execution_count": null,
   "metadata": {
    "collapsed": true
   },
   "outputs": [],
   "source": [
    "tejtool.data.loc[tejtool.data['coid']=='1603',['unit','roibNext','前期持股','收盤價(元)','報酬率-Ln','手續費']]"
   ]
  },
  {
   "cell_type": "code",
   "execution_count": null,
   "metadata": {
    "collapsed": true
   },
   "outputs": [],
   "source": [
    "tejtool.all_date_data[(tejtool.all_date_data['coid']=='1603')&(tejtool.all_date_data['zdate']>='2019-08-15')]"
   ]
  },
  {
   "cell_type": "code",
   "execution_count": null,
   "metadata": {
    "collapsed": true
   },
   "outputs": [],
   "source": []
  }
 ],
 "metadata": {
  "kernelspec": {
   "display_name": "Python 3",
   "language": "python",
   "name": "python3"
  },
  "language_info": {
   "codemirror_mode": {
    "name": "ipython",
    "version": 3
   },
   "file_extension": ".py",
   "mimetype": "text/x-python",
   "name": "python",
   "nbconvert_exporter": "python",
   "pygments_lexer": "ipython3",
   "version": "3.6.3"
  }
 },
 "nbformat": 4,
 "nbformat_minor": 2
}
