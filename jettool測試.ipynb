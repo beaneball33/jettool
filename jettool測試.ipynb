{
 "cells": [
  {
   "cell_type": "code",
   "execution_count": 1,
   "metadata": {},
   "outputs": [],
   "source": [
    "from jettool import tools\n",
    "import pandas\n",
    "import numpy"
   ]
  },
  {
   "cell_type": "markdown",
   "metadata": {},
   "source": [
    "# 初始化"
   ]
  },
  {
   "cell_type": "code",
   "execution_count": 2,
   "metadata": {},
   "outputs": [
    {
     "name": "stdout",
     "output_type": "stream",
     "text": [
      "['使用者名稱：趙育祥(ZYX)', '使用權限日期：2018-01-01/2050-12-31', '日連線次數狀態：162/100000', '日查詢資料量狀態：166628/10000000', '月查 詢資料量狀態：62438589/9223372036854775807']\n"
     ]
    }
   ],
   "source": [
    "# 初始化物件，可同時set Key\n",
    "tejtool = tools.financial_tool(api_key=\"GDEy0mWAGqnI3EemCREGREZMcEVbnF\")\n",
    "#tejtool.load_data()\n",
    "# 設定keyID，會自動查詢需要的資料表索引構造\n",
    "#tejtool.set_apikey(\"GDEy0mWAGqnI3EemCREGREZMcEVbnF\")"
   ]
  },
  {
   "cell_type": "markdown",
   "metadata": {},
   "source": [
    "# 資料結構資訊"
   ]
  },
  {
   "cell_type": "code",
   "execution_count": null,
   "metadata": {
    "collapsed": true
   },
   "outputs": [],
   "source": [
    "# 尋找某個table的mapping資料次屬性，可以用來知道你查的table，在其他國家是什麼table\n",
    "tejtool.get_table_mapping(market='TWN',id='AIND')"
   ]
  },
  {
   "cell_type": "code",
   "execution_count": null,
   "metadata": {
    "collapsed": true
   },
   "outputs": [],
   "source": [
    "# 取得該table除了PK以外的欄位名稱，用來簡化查詢步驟，無腦一口氣整個表匯入\n",
    "tejtool.get_table_columns('TWN/AFF_RAW')"
   ]
  },
  {
   "cell_type": "code",
   "execution_count": null,
   "metadata": {
    "collapsed": true
   },
   "outputs": [],
   "source": [
    "# 用模糊字串來查詢確切的會計科目名稱\n",
    "tejtool.find_account_name('資產負債')"
   ]
  },
  {
   "cell_type": "code",
   "execution_count": 3,
   "metadata": {},
   "outputs": [
    {
     "data": {
      "text/plain": [
       "(['SB01', 'SB21'], ['台灣加權股價指數', '美國紐約綜合股價指數'])"
      ]
     },
     "execution_count": 3,
     "metadata": {},
     "output_type": "execute_result"
    }
   ],
   "source": [
    "# 使用此函式可查詢總經資料表內的名稱與代碼的對照\n",
    "tejtool.compare_code_name(table_name='GLOBAL/GIDX',query_columns=['台灣加權股價指數','美國紐約綜合股價指數'])"
   ]
  },
  {
   "cell_type": "markdown",
   "metadata": {},
   "source": [
    "# 整合查詢器\n",
    "### 一次查詢全部整合完成\n",
    "#### 一個名稱、可到不同資料表查詢相對應的資料\n",
    "#### 需正確定義名稱的精確差異"
   ]
  },
  {
   "cell_type": "code",
   "execution_count": null,
   "metadata": {
    "collapsed": true,
    "scrolled": false
   },
   "outputs": [],
   "source": [
    "tejtool.prc_basedate[tejtool.prc_basedate['coid']=='2330'].dropna()"
   ]
  },
  {
   "cell_type": "code",
   "execution_count": null,
   "metadata": {
    "collapsed": true
   },
   "outputs": [],
   "source": [
    "tejtool.available_prc_name"
   ]
  },
  {
   "cell_type": "code",
   "execution_count": null,
   "metadata": {
    "collapsed": true
   },
   "outputs": [],
   "source": [
    "tejtool.category_list.get(4).get('subs')"
   ]
  },
  {
   "cell_type": "code",
   "execution_count": null,
   "metadata": {
    "collapsed": true,
    "scrolled": true
   },
   "outputs": [],
   "source": [
    "#data_name = ['常續性稅後淨利','收盤價(元)','報酬率-Ln','個別風險','長期反轉(T-60~T-13)','董監持股%','大股東持股(TSE)%','經理人持股%','單月營收(千元)']\n",
    "#fama_name = tejtool.get_table_columns('TWN/AFF_RAW')\n",
    "data_name = ['常續性稅後淨利','收盤價(元)','報酬率-Ln','單月營收(千元)']\n",
    "data_name = data_name \n",
    "data = tejtool.query_data(base_date='2019-12-31',window='3m',column_names=data_name)\n",
    "#tejtool.save_data()\n",
    "data[data['coid']=='2330']"
   ]
  },
  {
   "cell_type": "code",
   "execution_count": null,
   "metadata": {
    "collapsed": true
   },
   "outputs": [],
   "source": [
    "data = tejtool.get_data(base_date='2019-08-16',window='3d',column_names=['常續性稅後淨利','收盤價(元)','報酬率-Ln','單月營收(千元)'])"
   ]
  },
  {
   "cell_type": "code",
   "execution_count": null,
   "metadata": {
    "collapsed": true
   },
   "outputs": [],
   "source": [
    "# 用來取得 某個日期以前最接近的交易日\n",
    "tejtool.get_zdate('2019-08-16')"
   ]
  },
  {
   "cell_type": "code",
   "execution_count": null,
   "metadata": {
    "collapsed": true
   },
   "outputs": [],
   "source": [
    "tejtool.make_famamacbethmodel(col_name='報酬率-Ln',check_index=['市值', '淨值市價比', '益本比', '股利殖利率', '動能(T-12~T-2)', '短期反轉(T-1)', '長期反轉(T-60~T-13)', '盈利能力(ROE)', '投資(資產成長率)', '違約距離(MERTON)', '違約距離(KMV)', '流動性', '個別風險', '產業集中度', '錯誤定價', '偏態係數', '研發密度'],window ='12m',alpha_rate = 5)"
   ]
  },
  {
   "cell_type": "markdown",
   "metadata": {},
   "source": [
    "# 回測工具，與quantjet網站同一套"
   ]
  },
  {
   "cell_type": "code",
   "execution_count": null,
   "metadata": {
    "collapsed": true
   },
   "outputs": [],
   "source": [
    "# 定義計算式，然後使用back_test函式即可回測，目前欠缺自動查詢函式內需要資料欄位(即quantjet網站js檔的功能)的程序\n",
    "\n",
    "def calculate():\n",
    "    tejtool.data['EP'] = tejtool.data['常續性稅後淨利']/tejtool.data['收盤價(元)']\n",
    "    tejtool.data['常續性稅後淨利檢查'] = tejtool.check_above('EP',0,window='1d')\n",
    "def evaluate():\n",
    "    tejtool.data['購入'] = tejtool.check_condition(conditions=['常續性稅後淨利檢查'])\n",
    "    tejtool.data['unit'] = tejtool.equal_pv()\n",
    "\n",
    "# 另外必須輸入用來當作市價與報酬率的欄位名稱，如:roib_name='報酬率-Ln',closed_name ='收盤價(元)'\n",
    "# 若不輸入，則使用此預設值\n",
    "tejtool.back_test(back_interval='2019-10-31',cash=1000000000,calculate=calculate,evaluate=evaluate)"
   ]
  },
  {
   "cell_type": "code",
   "execution_count": null,
   "metadata": {
    "collapsed": true
   },
   "outputs": [],
   "source": [
    "def calculate(tejtool):\n",
    "    tejtool.data['報酬率']=tejtool.calculate_growthrate(check_index='收盤價(元)',window='1m',fix_date='01',method='geometric')\n",
    "    tejtool.data['famamodel']=tejtool.make_famamacbethmodel(col_name='報酬率-Ln',check_index=['市值', '淨值市價比', '益本比', '股利殖利率', '動能(T-12~T-2)', '短期反轉(T-1)', '長期反轉(T-60~T-13)', '盈利能力(ROE)', '投資(資產成長率)', '違約距離(MERTON)', '違約距離(KMV)', '流動性', '個別風險', '產業集中度', '錯誤定價', '偏態係數', '研發密度'],window ='24m',alpha_rate = 5,reset_list = '01')\n",
    "    tejtool.data['famascore']=tejtool.run_famascore(rank_above=100,class_count = 10) \n",
    "    tejtool.data['fama分組當月報酬']=tejtool.calculate_crossing(check_index='報酬率',window='1d',weight='市值',col_kind='mean')\n",
    "def evaluate(tejtool):\n",
    "    tejtool.data['fama分組判斷'] =tejtool.abnormal_selection(check_index='fama分組當月報酬',group_name='famascore',window='12m',keep='first')\n",
    "    tejtool.data['購入']=tejtool.check_condition(conditions=['fama分組判斷'],check_type='and') \n",
    "    tejtool.data['unit'] = tejtool.equal_pv()\n",
    "tejtool.back_test(back_interval='2018-12-31',cash=1000000000,calculate=calculate,evaluate=evaluate)"
   ]
  },
  {
   "cell_type": "code",
   "execution_count": null,
   "metadata": {
    "collapsed": true
   },
   "outputs": [],
   "source": [
    "tejtool.data.loc[tejtool.data['coid']=='1603',['unit','roibNext','前期持股','收盤價(元)','報酬率-Ln','手續費']]"
   ]
  },
  {
   "cell_type": "code",
   "execution_count": null,
   "metadata": {
    "collapsed": true
   },
   "outputs": [],
   "source": [
    "tejtool.all_date_data[(tejtool.all_date_data['coid']=='1603')&(tejtool.all_date_data['zdate']>='2019-08-15')]"
   ]
  },
  {
   "cell_type": "code",
   "execution_count": null,
   "metadata": {
    "collapsed": true
   },
   "outputs": [],
   "source": []
  }
 ],
 "metadata": {
  "kernelspec": {
   "display_name": "Python 3",
   "language": "python",
   "name": "python3"
  },
  "language_info": {
   "codemirror_mode": {
    "name": "ipython",
    "version": 3
   },
   "file_extension": ".py",
   "mimetype": "text/x-python",
   "name": "python",
   "nbconvert_exporter": "python",
   "pygments_lexer": "ipython3",
   "version": "3.6.3"
  }
 },
 "nbformat": 4,
 "nbformat_minor": 2
}
